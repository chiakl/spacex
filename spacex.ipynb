{
 "cells": [
  {
   "cell_type": "markdown",
   "id": "63a572f6",
   "metadata": {},
   "source": [
    "# UCCB3224 Data Mining Techniques"
   ]
  },
  {
   "cell_type": "markdown",
   "id": "b7ad15d8",
   "metadata": {},
   "source": [
    "### Group 11\n",
    "Group Members:\n",
    "- Chia Kee Ling, 18065706 (P3)\n",
    "- Choo Yong Quan, 1803979 (P3)\n",
    "- Chow Shin Jie, 1804372 (P3)\n",
    "- Choy Weng Nam, 1605334 (P1)\n",
    "- Ong Zi Yan, 1804375 (P3)"
   ]
  },
  {
   "cell_type": "markdown",
   "id": "c523a1db",
   "metadata": {},
   "source": [
    "## Import Libraries"
   ]
  },
  {
   "cell_type": "code",
   "execution_count": 1,
   "id": "17022e0a",
   "metadata": {},
   "outputs": [],
   "source": [
    "import pandas as pd\n",
    "import numpy as np\n",
    "import matplotlib.pyplot as plt\n",
    "import matplotlib as mpl\n",
    "import seaborn as sns\n",
    "from sklearn.preprocessing import StandardScaler\n",
    "from sklearn.preprocessing import OneHotEncoder\n",
    "from sklearn.model_selection import train_test_split\n",
    "from sklearn.feature_selection import SelectKBest\n",
    "from sklearn.feature_selection import chi2\n",
    "from scipy.stats import chi2_contingency\n",
    "import scipy.stats as stats\n",
    "import warnings\n",
    "warnings.filterwarnings('ignore')\n",
    "%matplotlib inline"
   ]
  },
  {
   "cell_type": "markdown",
   "id": "fb7737d9",
   "metadata": {},
   "source": [
    "## Data Collection"
   ]
  },
  {
   "cell_type": "code",
   "execution_count": 2,
   "id": "d387eef2",
   "metadata": {},
   "outputs": [],
   "source": [
    "df = pd.read_csv('dataset.csv',na_values='?')"
   ]
  },
  {
   "cell_type": "markdown",
   "id": "690093e1",
   "metadata": {},
   "source": [
    "## Data Exploration"
   ]
  },
  {
   "cell_type": "code",
   "execution_count": 3,
   "id": "4f77f08d",
   "metadata": {},
   "outputs": [
    {
     "data": {
      "text/html": [
       "<div>\n",
       "<style scoped>\n",
       "    .dataframe tbody tr th:only-of-type {\n",
       "        vertical-align: middle;\n",
       "    }\n",
       "\n",
       "    .dataframe tbody tr th {\n",
       "        vertical-align: top;\n",
       "    }\n",
       "\n",
       "    .dataframe thead th {\n",
       "        text-align: right;\n",
       "    }\n",
       "</style>\n",
       "<table border=\"1\" class=\"dataframe\">\n",
       "  <thead>\n",
       "    <tr style=\"text-align: right;\">\n",
       "      <th></th>\n",
       "      <th>FlightNumber</th>\n",
       "      <th>Date</th>\n",
       "      <th>BoosterVersion</th>\n",
       "      <th>PayloadMass</th>\n",
       "      <th>Orbit</th>\n",
       "      <th>LaunchSite</th>\n",
       "      <th>Outcome</th>\n",
       "      <th>Flights</th>\n",
       "      <th>GridFins</th>\n",
       "      <th>Reused</th>\n",
       "      <th>Legs</th>\n",
       "      <th>LandingPad</th>\n",
       "      <th>Block</th>\n",
       "      <th>ReusedCount</th>\n",
       "      <th>Serial</th>\n",
       "      <th>Longitude</th>\n",
       "      <th>Latitude</th>\n",
       "      <th>Class</th>\n",
       "    </tr>\n",
       "  </thead>\n",
       "  <tbody>\n",
       "    <tr>\n",
       "      <th>0</th>\n",
       "      <td>1</td>\n",
       "      <td>2010-06-04</td>\n",
       "      <td>Falcon 9</td>\n",
       "      <td>6104.959412</td>\n",
       "      <td>LEO</td>\n",
       "      <td>CCAFS SLC 40</td>\n",
       "      <td>None None</td>\n",
       "      <td>1</td>\n",
       "      <td>False</td>\n",
       "      <td>False</td>\n",
       "      <td>False</td>\n",
       "      <td>NaN</td>\n",
       "      <td>1.0</td>\n",
       "      <td>0</td>\n",
       "      <td>B0003</td>\n",
       "      <td>-80.577366</td>\n",
       "      <td>28.561857</td>\n",
       "      <td>0</td>\n",
       "    </tr>\n",
       "    <tr>\n",
       "      <th>1</th>\n",
       "      <td>2</td>\n",
       "      <td>2012-05-22</td>\n",
       "      <td>Falcon 9</td>\n",
       "      <td>525.000000</td>\n",
       "      <td>LEO</td>\n",
       "      <td>CCAFS SLC 40</td>\n",
       "      <td>None None</td>\n",
       "      <td>1</td>\n",
       "      <td>False</td>\n",
       "      <td>False</td>\n",
       "      <td>False</td>\n",
       "      <td>NaN</td>\n",
       "      <td>1.0</td>\n",
       "      <td>0</td>\n",
       "      <td>B0005</td>\n",
       "      <td>-80.577366</td>\n",
       "      <td>28.561857</td>\n",
       "      <td>0</td>\n",
       "    </tr>\n",
       "    <tr>\n",
       "      <th>2</th>\n",
       "      <td>3</td>\n",
       "      <td>2013-03-01</td>\n",
       "      <td>Falcon 9</td>\n",
       "      <td>677.000000</td>\n",
       "      <td>ISS</td>\n",
       "      <td>CCAFS SLC 40</td>\n",
       "      <td>None None</td>\n",
       "      <td>1</td>\n",
       "      <td>False</td>\n",
       "      <td>False</td>\n",
       "      <td>False</td>\n",
       "      <td>NaN</td>\n",
       "      <td>1.0</td>\n",
       "      <td>0</td>\n",
       "      <td>B0007</td>\n",
       "      <td>-80.577366</td>\n",
       "      <td>28.561857</td>\n",
       "      <td>0</td>\n",
       "    </tr>\n",
       "    <tr>\n",
       "      <th>3</th>\n",
       "      <td>4</td>\n",
       "      <td>2013-09-29</td>\n",
       "      <td>Falcon 9</td>\n",
       "      <td>500.000000</td>\n",
       "      <td>PO</td>\n",
       "      <td>VAFB SLC 4E</td>\n",
       "      <td>False Ocean</td>\n",
       "      <td>1</td>\n",
       "      <td>False</td>\n",
       "      <td>False</td>\n",
       "      <td>False</td>\n",
       "      <td>NaN</td>\n",
       "      <td>1.0</td>\n",
       "      <td>0</td>\n",
       "      <td>B1003</td>\n",
       "      <td>-120.610829</td>\n",
       "      <td>34.632093</td>\n",
       "      <td>0</td>\n",
       "    </tr>\n",
       "    <tr>\n",
       "      <th>4</th>\n",
       "      <td>5</td>\n",
       "      <td>2013-12-03</td>\n",
       "      <td>Falcon 9</td>\n",
       "      <td>3170.000000</td>\n",
       "      <td>GTO</td>\n",
       "      <td>CCAFS SLC 40</td>\n",
       "      <td>None None</td>\n",
       "      <td>1</td>\n",
       "      <td>False</td>\n",
       "      <td>False</td>\n",
       "      <td>False</td>\n",
       "      <td>NaN</td>\n",
       "      <td>1.0</td>\n",
       "      <td>0</td>\n",
       "      <td>B1004</td>\n",
       "      <td>-80.577366</td>\n",
       "      <td>28.561857</td>\n",
       "      <td>0</td>\n",
       "    </tr>\n",
       "  </tbody>\n",
       "</table>\n",
       "</div>"
      ],
      "text/plain": [
       "   FlightNumber        Date BoosterVersion  PayloadMass Orbit    LaunchSite  \\\n",
       "0             1  2010-06-04       Falcon 9  6104.959412   LEO  CCAFS SLC 40   \n",
       "1             2  2012-05-22       Falcon 9   525.000000   LEO  CCAFS SLC 40   \n",
       "2             3  2013-03-01       Falcon 9   677.000000   ISS  CCAFS SLC 40   \n",
       "3             4  2013-09-29       Falcon 9   500.000000    PO   VAFB SLC 4E   \n",
       "4             5  2013-12-03       Falcon 9  3170.000000   GTO  CCAFS SLC 40   \n",
       "\n",
       "       Outcome  Flights  GridFins  Reused   Legs LandingPad  Block  \\\n",
       "0    None None        1     False   False  False        NaN    1.0   \n",
       "1    None None        1     False   False  False        NaN    1.0   \n",
       "2    None None        1     False   False  False        NaN    1.0   \n",
       "3  False Ocean        1     False   False  False        NaN    1.0   \n",
       "4    None None        1     False   False  False        NaN    1.0   \n",
       "\n",
       "   ReusedCount Serial   Longitude   Latitude  Class  \n",
       "0            0  B0003  -80.577366  28.561857      0  \n",
       "1            0  B0005  -80.577366  28.561857      0  \n",
       "2            0  B0007  -80.577366  28.561857      0  \n",
       "3            0  B1003 -120.610829  34.632093      0  \n",
       "4            0  B1004  -80.577366  28.561857      0  "
      ]
     },
     "execution_count": 3,
     "metadata": {},
     "output_type": "execute_result"
    }
   ],
   "source": [
    "df.head()"
   ]
  },
  {
   "cell_type": "code",
   "execution_count": 4,
   "id": "3c7d274e",
   "metadata": {},
   "outputs": [
    {
     "name": "stdout",
     "output_type": "stream",
     "text": [
      "<class 'pandas.core.frame.DataFrame'>\n",
      "RangeIndex: 90 entries, 0 to 89\n",
      "Data columns (total 18 columns):\n",
      " #   Column          Non-Null Count  Dtype  \n",
      "---  ------          --------------  -----  \n",
      " 0   FlightNumber    90 non-null     int64  \n",
      " 1   Date            90 non-null     object \n",
      " 2   BoosterVersion  90 non-null     object \n",
      " 3   PayloadMass     90 non-null     float64\n",
      " 4   Orbit           90 non-null     object \n",
      " 5   LaunchSite      90 non-null     object \n",
      " 6   Outcome         90 non-null     object \n",
      " 7   Flights         90 non-null     int64  \n",
      " 8   GridFins        90 non-null     bool   \n",
      " 9   Reused          90 non-null     bool   \n",
      " 10  Legs            90 non-null     bool   \n",
      " 11  LandingPad      64 non-null     object \n",
      " 12  Block           90 non-null     float64\n",
      " 13  ReusedCount     90 non-null     int64  \n",
      " 14  Serial          90 non-null     object \n",
      " 15  Longitude       90 non-null     float64\n",
      " 16  Latitude        90 non-null     float64\n",
      " 17  Class           90 non-null     int64  \n",
      "dtypes: bool(3), float64(4), int64(4), object(7)\n",
      "memory usage: 10.9+ KB\n"
     ]
    }
   ],
   "source": [
    "df.info()"
   ]
  },
  {
   "cell_type": "code",
   "execution_count": 5,
   "id": "f83e2ca1",
   "metadata": {},
   "outputs": [
    {
     "data": {
      "text/plain": [
       "(90, 18)"
      ]
     },
     "execution_count": 5,
     "metadata": {},
     "output_type": "execute_result"
    }
   ],
   "source": [
    "df.shape"
   ]
  },
  {
   "cell_type": "code",
   "execution_count": 6,
   "id": "d5e92173",
   "metadata": {},
   "outputs": [
    {
     "data": {
      "text/html": [
       "<div>\n",
       "<style scoped>\n",
       "    .dataframe tbody tr th:only-of-type {\n",
       "        vertical-align: middle;\n",
       "    }\n",
       "\n",
       "    .dataframe tbody tr th {\n",
       "        vertical-align: top;\n",
       "    }\n",
       "\n",
       "    .dataframe thead th {\n",
       "        text-align: right;\n",
       "    }\n",
       "</style>\n",
       "<table border=\"1\" class=\"dataframe\">\n",
       "  <thead>\n",
       "    <tr style=\"text-align: right;\">\n",
       "      <th></th>\n",
       "      <th>FlightNumber</th>\n",
       "      <th>Date</th>\n",
       "      <th>BoosterVersion</th>\n",
       "      <th>PayloadMass</th>\n",
       "      <th>Orbit</th>\n",
       "      <th>LaunchSite</th>\n",
       "      <th>Outcome</th>\n",
       "      <th>Flights</th>\n",
       "      <th>GridFins</th>\n",
       "      <th>Reused</th>\n",
       "      <th>Legs</th>\n",
       "      <th>LandingPad</th>\n",
       "      <th>Block</th>\n",
       "      <th>ReusedCount</th>\n",
       "      <th>Serial</th>\n",
       "      <th>Longitude</th>\n",
       "      <th>Latitude</th>\n",
       "      <th>Class</th>\n",
       "    </tr>\n",
       "  </thead>\n",
       "  <tbody>\n",
       "    <tr>\n",
       "      <th>0</th>\n",
       "      <td>False</td>\n",
       "      <td>False</td>\n",
       "      <td>False</td>\n",
       "      <td>False</td>\n",
       "      <td>False</td>\n",
       "      <td>False</td>\n",
       "      <td>False</td>\n",
       "      <td>False</td>\n",
       "      <td>False</td>\n",
       "      <td>False</td>\n",
       "      <td>False</td>\n",
       "      <td>True</td>\n",
       "      <td>False</td>\n",
       "      <td>False</td>\n",
       "      <td>False</td>\n",
       "      <td>False</td>\n",
       "      <td>False</td>\n",
       "      <td>False</td>\n",
       "    </tr>\n",
       "    <tr>\n",
       "      <th>1</th>\n",
       "      <td>False</td>\n",
       "      <td>False</td>\n",
       "      <td>False</td>\n",
       "      <td>False</td>\n",
       "      <td>False</td>\n",
       "      <td>False</td>\n",
       "      <td>False</td>\n",
       "      <td>False</td>\n",
       "      <td>False</td>\n",
       "      <td>False</td>\n",
       "      <td>False</td>\n",
       "      <td>True</td>\n",
       "      <td>False</td>\n",
       "      <td>False</td>\n",
       "      <td>False</td>\n",
       "      <td>False</td>\n",
       "      <td>False</td>\n",
       "      <td>False</td>\n",
       "    </tr>\n",
       "    <tr>\n",
       "      <th>2</th>\n",
       "      <td>False</td>\n",
       "      <td>False</td>\n",
       "      <td>False</td>\n",
       "      <td>False</td>\n",
       "      <td>False</td>\n",
       "      <td>False</td>\n",
       "      <td>False</td>\n",
       "      <td>False</td>\n",
       "      <td>False</td>\n",
       "      <td>False</td>\n",
       "      <td>False</td>\n",
       "      <td>True</td>\n",
       "      <td>False</td>\n",
       "      <td>False</td>\n",
       "      <td>False</td>\n",
       "      <td>False</td>\n",
       "      <td>False</td>\n",
       "      <td>False</td>\n",
       "    </tr>\n",
       "    <tr>\n",
       "      <th>3</th>\n",
       "      <td>False</td>\n",
       "      <td>False</td>\n",
       "      <td>False</td>\n",
       "      <td>False</td>\n",
       "      <td>False</td>\n",
       "      <td>False</td>\n",
       "      <td>False</td>\n",
       "      <td>False</td>\n",
       "      <td>False</td>\n",
       "      <td>False</td>\n",
       "      <td>False</td>\n",
       "      <td>True</td>\n",
       "      <td>False</td>\n",
       "      <td>False</td>\n",
       "      <td>False</td>\n",
       "      <td>False</td>\n",
       "      <td>False</td>\n",
       "      <td>False</td>\n",
       "    </tr>\n",
       "    <tr>\n",
       "      <th>4</th>\n",
       "      <td>False</td>\n",
       "      <td>False</td>\n",
       "      <td>False</td>\n",
       "      <td>False</td>\n",
       "      <td>False</td>\n",
       "      <td>False</td>\n",
       "      <td>False</td>\n",
       "      <td>False</td>\n",
       "      <td>False</td>\n",
       "      <td>False</td>\n",
       "      <td>False</td>\n",
       "      <td>True</td>\n",
       "      <td>False</td>\n",
       "      <td>False</td>\n",
       "      <td>False</td>\n",
       "      <td>False</td>\n",
       "      <td>False</td>\n",
       "      <td>False</td>\n",
       "    </tr>\n",
       "    <tr>\n",
       "      <th>...</th>\n",
       "      <td>...</td>\n",
       "      <td>...</td>\n",
       "      <td>...</td>\n",
       "      <td>...</td>\n",
       "      <td>...</td>\n",
       "      <td>...</td>\n",
       "      <td>...</td>\n",
       "      <td>...</td>\n",
       "      <td>...</td>\n",
       "      <td>...</td>\n",
       "      <td>...</td>\n",
       "      <td>...</td>\n",
       "      <td>...</td>\n",
       "      <td>...</td>\n",
       "      <td>...</td>\n",
       "      <td>...</td>\n",
       "      <td>...</td>\n",
       "      <td>...</td>\n",
       "    </tr>\n",
       "    <tr>\n",
       "      <th>85</th>\n",
       "      <td>False</td>\n",
       "      <td>False</td>\n",
       "      <td>False</td>\n",
       "      <td>False</td>\n",
       "      <td>False</td>\n",
       "      <td>False</td>\n",
       "      <td>False</td>\n",
       "      <td>False</td>\n",
       "      <td>False</td>\n",
       "      <td>False</td>\n",
       "      <td>False</td>\n",
       "      <td>False</td>\n",
       "      <td>False</td>\n",
       "      <td>False</td>\n",
       "      <td>False</td>\n",
       "      <td>False</td>\n",
       "      <td>False</td>\n",
       "      <td>False</td>\n",
       "    </tr>\n",
       "    <tr>\n",
       "      <th>86</th>\n",
       "      <td>False</td>\n",
       "      <td>False</td>\n",
       "      <td>False</td>\n",
       "      <td>False</td>\n",
       "      <td>False</td>\n",
       "      <td>False</td>\n",
       "      <td>False</td>\n",
       "      <td>False</td>\n",
       "      <td>False</td>\n",
       "      <td>False</td>\n",
       "      <td>False</td>\n",
       "      <td>False</td>\n",
       "      <td>False</td>\n",
       "      <td>False</td>\n",
       "      <td>False</td>\n",
       "      <td>False</td>\n",
       "      <td>False</td>\n",
       "      <td>False</td>\n",
       "    </tr>\n",
       "    <tr>\n",
       "      <th>87</th>\n",
       "      <td>False</td>\n",
       "      <td>False</td>\n",
       "      <td>False</td>\n",
       "      <td>False</td>\n",
       "      <td>False</td>\n",
       "      <td>False</td>\n",
       "      <td>False</td>\n",
       "      <td>False</td>\n",
       "      <td>False</td>\n",
       "      <td>False</td>\n",
       "      <td>False</td>\n",
       "      <td>False</td>\n",
       "      <td>False</td>\n",
       "      <td>False</td>\n",
       "      <td>False</td>\n",
       "      <td>False</td>\n",
       "      <td>False</td>\n",
       "      <td>False</td>\n",
       "    </tr>\n",
       "    <tr>\n",
       "      <th>88</th>\n",
       "      <td>False</td>\n",
       "      <td>False</td>\n",
       "      <td>False</td>\n",
       "      <td>False</td>\n",
       "      <td>False</td>\n",
       "      <td>False</td>\n",
       "      <td>False</td>\n",
       "      <td>False</td>\n",
       "      <td>False</td>\n",
       "      <td>False</td>\n",
       "      <td>False</td>\n",
       "      <td>False</td>\n",
       "      <td>False</td>\n",
       "      <td>False</td>\n",
       "      <td>False</td>\n",
       "      <td>False</td>\n",
       "      <td>False</td>\n",
       "      <td>False</td>\n",
       "    </tr>\n",
       "    <tr>\n",
       "      <th>89</th>\n",
       "      <td>False</td>\n",
       "      <td>False</td>\n",
       "      <td>False</td>\n",
       "      <td>False</td>\n",
       "      <td>False</td>\n",
       "      <td>False</td>\n",
       "      <td>False</td>\n",
       "      <td>False</td>\n",
       "      <td>False</td>\n",
       "      <td>False</td>\n",
       "      <td>False</td>\n",
       "      <td>False</td>\n",
       "      <td>False</td>\n",
       "      <td>False</td>\n",
       "      <td>False</td>\n",
       "      <td>False</td>\n",
       "      <td>False</td>\n",
       "      <td>False</td>\n",
       "    </tr>\n",
       "  </tbody>\n",
       "</table>\n",
       "<p>90 rows × 18 columns</p>\n",
       "</div>"
      ],
      "text/plain": [
       "    FlightNumber   Date  BoosterVersion  PayloadMass  Orbit  LaunchSite  \\\n",
       "0          False  False           False        False  False       False   \n",
       "1          False  False           False        False  False       False   \n",
       "2          False  False           False        False  False       False   \n",
       "3          False  False           False        False  False       False   \n",
       "4          False  False           False        False  False       False   \n",
       "..           ...    ...             ...          ...    ...         ...   \n",
       "85         False  False           False        False  False       False   \n",
       "86         False  False           False        False  False       False   \n",
       "87         False  False           False        False  False       False   \n",
       "88         False  False           False        False  False       False   \n",
       "89         False  False           False        False  False       False   \n",
       "\n",
       "    Outcome  Flights  GridFins  Reused   Legs  LandingPad  Block  ReusedCount  \\\n",
       "0     False    False     False   False  False        True  False        False   \n",
       "1     False    False     False   False  False        True  False        False   \n",
       "2     False    False     False   False  False        True  False        False   \n",
       "3     False    False     False   False  False        True  False        False   \n",
       "4     False    False     False   False  False        True  False        False   \n",
       "..      ...      ...       ...     ...    ...         ...    ...          ...   \n",
       "85    False    False     False   False  False       False  False        False   \n",
       "86    False    False     False   False  False       False  False        False   \n",
       "87    False    False     False   False  False       False  False        False   \n",
       "88    False    False     False   False  False       False  False        False   \n",
       "89    False    False     False   False  False       False  False        False   \n",
       "\n",
       "    Serial  Longitude  Latitude  Class  \n",
       "0    False      False     False  False  \n",
       "1    False      False     False  False  \n",
       "2    False      False     False  False  \n",
       "3    False      False     False  False  \n",
       "4    False      False     False  False  \n",
       "..     ...        ...       ...    ...  \n",
       "85   False      False     False  False  \n",
       "86   False      False     False  False  \n",
       "87   False      False     False  False  \n",
       "88   False      False     False  False  \n",
       "89   False      False     False  False  \n",
       "\n",
       "[90 rows x 18 columns]"
      ]
     },
     "execution_count": 6,
     "metadata": {},
     "output_type": "execute_result"
    }
   ],
   "source": [
    "df.isnull()"
   ]
  },
  {
   "cell_type": "code",
   "execution_count": 7,
   "id": "dd20ba98",
   "metadata": {},
   "outputs": [
    {
     "data": {
      "text/plain": [
       "FlightNumber       0\n",
       "Date               0\n",
       "BoosterVersion     0\n",
       "PayloadMass        0\n",
       "Orbit              0\n",
       "LaunchSite         0\n",
       "Outcome            0\n",
       "Flights            0\n",
       "GridFins           0\n",
       "Reused             0\n",
       "Legs               0\n",
       "LandingPad        26\n",
       "Block              0\n",
       "ReusedCount        0\n",
       "Serial             0\n",
       "Longitude          0\n",
       "Latitude           0\n",
       "Class              0\n",
       "dtype: int64"
      ]
     },
     "execution_count": 7,
     "metadata": {},
     "output_type": "execute_result"
    }
   ],
   "source": [
    "df.isnull().sum()"
   ]
  },
  {
   "cell_type": "markdown",
   "id": "597a6256",
   "metadata": {},
   "source": [
    "## Numerical Feature Analysis"
   ]
  },
  {
   "cell_type": "code",
   "execution_count": 8,
   "id": "ba889853",
   "metadata": {},
   "outputs": [
    {
     "data": {
      "text/html": [
       "<div>\n",
       "<style scoped>\n",
       "    .dataframe tbody tr th:only-of-type {\n",
       "        vertical-align: middle;\n",
       "    }\n",
       "\n",
       "    .dataframe tbody tr th {\n",
       "        vertical-align: top;\n",
       "    }\n",
       "\n",
       "    .dataframe thead th {\n",
       "        text-align: right;\n",
       "    }\n",
       "</style>\n",
       "<table border=\"1\" class=\"dataframe\">\n",
       "  <thead>\n",
       "    <tr style=\"text-align: right;\">\n",
       "      <th></th>\n",
       "      <th>FlightNumber</th>\n",
       "      <th>PayloadMass</th>\n",
       "      <th>Flights</th>\n",
       "      <th>Block</th>\n",
       "      <th>ReusedCount</th>\n",
       "      <th>Longitude</th>\n",
       "      <th>Latitude</th>\n",
       "      <th>Class</th>\n",
       "    </tr>\n",
       "  </thead>\n",
       "  <tbody>\n",
       "    <tr>\n",
       "      <th>count</th>\n",
       "      <td>90.000000</td>\n",
       "      <td>90.000000</td>\n",
       "      <td>90.000000</td>\n",
       "      <td>90.000000</td>\n",
       "      <td>90.000000</td>\n",
       "      <td>90.000000</td>\n",
       "      <td>90.000000</td>\n",
       "      <td>90.000000</td>\n",
       "    </tr>\n",
       "    <tr>\n",
       "      <th>mean</th>\n",
       "      <td>45.500000</td>\n",
       "      <td>6104.959412</td>\n",
       "      <td>1.788889</td>\n",
       "      <td>3.500000</td>\n",
       "      <td>1.655556</td>\n",
       "      <td>-86.366477</td>\n",
       "      <td>29.449963</td>\n",
       "      <td>0.666667</td>\n",
       "    </tr>\n",
       "    <tr>\n",
       "      <th>std</th>\n",
       "      <td>26.124701</td>\n",
       "      <td>4694.671720</td>\n",
       "      <td>1.213172</td>\n",
       "      <td>1.595288</td>\n",
       "      <td>1.710254</td>\n",
       "      <td>14.149518</td>\n",
       "      <td>2.141306</td>\n",
       "      <td>0.474045</td>\n",
       "    </tr>\n",
       "    <tr>\n",
       "      <th>min</th>\n",
       "      <td>1.000000</td>\n",
       "      <td>350.000000</td>\n",
       "      <td>1.000000</td>\n",
       "      <td>1.000000</td>\n",
       "      <td>0.000000</td>\n",
       "      <td>-120.610829</td>\n",
       "      <td>28.561857</td>\n",
       "      <td>0.000000</td>\n",
       "    </tr>\n",
       "    <tr>\n",
       "      <th>25%</th>\n",
       "      <td>23.250000</td>\n",
       "      <td>2510.750000</td>\n",
       "      <td>1.000000</td>\n",
       "      <td>2.000000</td>\n",
       "      <td>0.000000</td>\n",
       "      <td>-80.603956</td>\n",
       "      <td>28.561857</td>\n",
       "      <td>0.000000</td>\n",
       "    </tr>\n",
       "    <tr>\n",
       "      <th>50%</th>\n",
       "      <td>45.500000</td>\n",
       "      <td>4701.500000</td>\n",
       "      <td>1.000000</td>\n",
       "      <td>4.000000</td>\n",
       "      <td>1.000000</td>\n",
       "      <td>-80.577366</td>\n",
       "      <td>28.561857</td>\n",
       "      <td>1.000000</td>\n",
       "    </tr>\n",
       "    <tr>\n",
       "      <th>75%</th>\n",
       "      <td>67.750000</td>\n",
       "      <td>8912.750000</td>\n",
       "      <td>2.000000</td>\n",
       "      <td>5.000000</td>\n",
       "      <td>3.000000</td>\n",
       "      <td>-80.577366</td>\n",
       "      <td>28.608058</td>\n",
       "      <td>1.000000</td>\n",
       "    </tr>\n",
       "    <tr>\n",
       "      <th>max</th>\n",
       "      <td>90.000000</td>\n",
       "      <td>15600.000000</td>\n",
       "      <td>6.000000</td>\n",
       "      <td>5.000000</td>\n",
       "      <td>5.000000</td>\n",
       "      <td>-80.577366</td>\n",
       "      <td>34.632093</td>\n",
       "      <td>1.000000</td>\n",
       "    </tr>\n",
       "  </tbody>\n",
       "</table>\n",
       "</div>"
      ],
      "text/plain": [
       "       FlightNumber   PayloadMass    Flights      Block  ReusedCount  \\\n",
       "count     90.000000     90.000000  90.000000  90.000000    90.000000   \n",
       "mean      45.500000   6104.959412   1.788889   3.500000     1.655556   \n",
       "std       26.124701   4694.671720   1.213172   1.595288     1.710254   \n",
       "min        1.000000    350.000000   1.000000   1.000000     0.000000   \n",
       "25%       23.250000   2510.750000   1.000000   2.000000     0.000000   \n",
       "50%       45.500000   4701.500000   1.000000   4.000000     1.000000   \n",
       "75%       67.750000   8912.750000   2.000000   5.000000     3.000000   \n",
       "max       90.000000  15600.000000   6.000000   5.000000     5.000000   \n",
       "\n",
       "        Longitude   Latitude      Class  \n",
       "count   90.000000  90.000000  90.000000  \n",
       "mean   -86.366477  29.449963   0.666667  \n",
       "std     14.149518   2.141306   0.474045  \n",
       "min   -120.610829  28.561857   0.000000  \n",
       "25%    -80.603956  28.561857   0.000000  \n",
       "50%    -80.577366  28.561857   1.000000  \n",
       "75%    -80.577366  28.608058   1.000000  \n",
       "max    -80.577366  34.632093   1.000000  "
      ]
     },
     "execution_count": 8,
     "metadata": {},
     "output_type": "execute_result"
    }
   ],
   "source": [
    "df.describe()"
   ]
  },
  {
   "cell_type": "code",
   "execution_count": 9,
   "id": "8e3f8937",
   "metadata": {},
   "outputs": [
    {
     "data": {
      "text/html": [
       "<div>\n",
       "<style scoped>\n",
       "    .dataframe tbody tr th:only-of-type {\n",
       "        vertical-align: middle;\n",
       "    }\n",
       "\n",
       "    .dataframe tbody tr th {\n",
       "        vertical-align: top;\n",
       "    }\n",
       "\n",
       "    .dataframe thead th {\n",
       "        text-align: right;\n",
       "    }\n",
       "</style>\n",
       "<table border=\"1\" class=\"dataframe\">\n",
       "  <thead>\n",
       "    <tr style=\"text-align: right;\">\n",
       "      <th></th>\n",
       "      <th>FlightNumber</th>\n",
       "      <th>PayloadMass</th>\n",
       "      <th>Flights</th>\n",
       "      <th>GridFins</th>\n",
       "      <th>Reused</th>\n",
       "      <th>Legs</th>\n",
       "      <th>Block</th>\n",
       "      <th>ReusedCount</th>\n",
       "      <th>Longitude</th>\n",
       "      <th>Latitude</th>\n",
       "      <th>Class</th>\n",
       "    </tr>\n",
       "  </thead>\n",
       "  <tbody>\n",
       "    <tr>\n",
       "      <th>FlightNumber</th>\n",
       "      <td>1.000000</td>\n",
       "      <td>0.596307</td>\n",
       "      <td>0.652842</td>\n",
       "      <td>0.442364</td>\n",
       "      <td>0.635844</td>\n",
       "      <td>0.373619</td>\n",
       "      <td>0.932411</td>\n",
       "      <td>0.735193</td>\n",
       "      <td>0.055256</td>\n",
       "      <td>-0.054194</td>\n",
       "      <td>0.401923</td>\n",
       "    </tr>\n",
       "    <tr>\n",
       "      <th>PayloadMass</th>\n",
       "      <td>0.596307</td>\n",
       "      <td>1.000000</td>\n",
       "      <td>0.665218</td>\n",
       "      <td>0.258011</td>\n",
       "      <td>0.468393</td>\n",
       "      <td>0.192318</td>\n",
       "      <td>0.518165</td>\n",
       "      <td>0.612327</td>\n",
       "      <td>0.016181</td>\n",
       "      <td>-0.014655</td>\n",
       "      <td>0.199992</td>\n",
       "    </tr>\n",
       "    <tr>\n",
       "      <th>Flights</th>\n",
       "      <td>0.652842</td>\n",
       "      <td>0.665218</td>\n",
       "      <td>1.000000</td>\n",
       "      <td>0.194457</td>\n",
       "      <td>0.782631</td>\n",
       "      <td>0.157727</td>\n",
       "      <td>0.519603</td>\n",
       "      <td>0.684802</td>\n",
       "      <td>0.085228</td>\n",
       "      <td>-0.084547</td>\n",
       "      <td>0.149787</td>\n",
       "    </tr>\n",
       "    <tr>\n",
       "      <th>GridFins</th>\n",
       "      <td>0.442364</td>\n",
       "      <td>0.258011</td>\n",
       "      <td>0.194457</td>\n",
       "      <td>1.000000</td>\n",
       "      <td>0.229341</td>\n",
       "      <td>0.902302</td>\n",
       "      <td>0.438023</td>\n",
       "      <td>0.410324</td>\n",
       "      <td>-0.143677</td>\n",
       "      <td>0.144427</td>\n",
       "      <td>0.642540</td>\n",
       "    </tr>\n",
       "    <tr>\n",
       "      <th>Reused</th>\n",
       "      <td>0.635844</td>\n",
       "      <td>0.468393</td>\n",
       "      <td>0.782631</td>\n",
       "      <td>0.229341</td>\n",
       "      <td>1.000000</td>\n",
       "      <td>0.155552</td>\n",
       "      <td>0.548036</td>\n",
       "      <td>0.594109</td>\n",
       "      <td>-0.042160</td>\n",
       "      <td>0.042669</td>\n",
       "      <td>0.207582</td>\n",
       "    </tr>\n",
       "    <tr>\n",
       "      <th>Legs</th>\n",
       "      <td>0.373619</td>\n",
       "      <td>0.192318</td>\n",
       "      <td>0.157727</td>\n",
       "      <td>0.902302</td>\n",
       "      <td>0.155552</td>\n",
       "      <td>1.000000</td>\n",
       "      <td>0.368994</td>\n",
       "      <td>0.375496</td>\n",
       "      <td>-0.057701</td>\n",
       "      <td>0.058161</td>\n",
       "      <td>0.673825</td>\n",
       "    </tr>\n",
       "    <tr>\n",
       "      <th>Block</th>\n",
       "      <td>0.932411</td>\n",
       "      <td>0.518165</td>\n",
       "      <td>0.519603</td>\n",
       "      <td>0.438023</td>\n",
       "      <td>0.548036</td>\n",
       "      <td>0.368994</td>\n",
       "      <td>1.000000</td>\n",
       "      <td>0.743340</td>\n",
       "      <td>-0.030037</td>\n",
       "      <td>0.031621</td>\n",
       "      <td>0.416015</td>\n",
       "    </tr>\n",
       "    <tr>\n",
       "      <th>ReusedCount</th>\n",
       "      <td>0.735193</td>\n",
       "      <td>0.612327</td>\n",
       "      <td>0.684802</td>\n",
       "      <td>0.410324</td>\n",
       "      <td>0.594109</td>\n",
       "      <td>0.375496</td>\n",
       "      <td>0.743340</td>\n",
       "      <td>1.000000</td>\n",
       "      <td>-0.101877</td>\n",
       "      <td>0.102668</td>\n",
       "      <td>0.466584</td>\n",
       "    </tr>\n",
       "    <tr>\n",
       "      <th>Longitude</th>\n",
       "      <td>0.055256</td>\n",
       "      <td>0.016181</td>\n",
       "      <td>0.085228</td>\n",
       "      <td>-0.143677</td>\n",
       "      <td>-0.042160</td>\n",
       "      <td>-0.057701</td>\n",
       "      <td>-0.030037</td>\n",
       "      <td>-0.101877</td>\n",
       "      <td>1.000000</td>\n",
       "      <td>-0.999966</td>\n",
       "      <td>-0.089519</td>\n",
       "    </tr>\n",
       "    <tr>\n",
       "      <th>Latitude</th>\n",
       "      <td>-0.054194</td>\n",
       "      <td>-0.014655</td>\n",
       "      <td>-0.084547</td>\n",
       "      <td>0.144427</td>\n",
       "      <td>0.042669</td>\n",
       "      <td>0.058161</td>\n",
       "      <td>0.031621</td>\n",
       "      <td>0.102668</td>\n",
       "      <td>-0.999966</td>\n",
       "      <td>1.000000</td>\n",
       "      <td>0.090782</td>\n",
       "    </tr>\n",
       "    <tr>\n",
       "      <th>Class</th>\n",
       "      <td>0.401923</td>\n",
       "      <td>0.199992</td>\n",
       "      <td>0.149787</td>\n",
       "      <td>0.642540</td>\n",
       "      <td>0.207582</td>\n",
       "      <td>0.673825</td>\n",
       "      <td>0.416015</td>\n",
       "      <td>0.466584</td>\n",
       "      <td>-0.089519</td>\n",
       "      <td>0.090782</td>\n",
       "      <td>1.000000</td>\n",
       "    </tr>\n",
       "  </tbody>\n",
       "</table>\n",
       "</div>"
      ],
      "text/plain": [
       "              FlightNumber  PayloadMass   Flights  GridFins    Reused  \\\n",
       "FlightNumber      1.000000     0.596307  0.652842  0.442364  0.635844   \n",
       "PayloadMass       0.596307     1.000000  0.665218  0.258011  0.468393   \n",
       "Flights           0.652842     0.665218  1.000000  0.194457  0.782631   \n",
       "GridFins          0.442364     0.258011  0.194457  1.000000  0.229341   \n",
       "Reused            0.635844     0.468393  0.782631  0.229341  1.000000   \n",
       "Legs              0.373619     0.192318  0.157727  0.902302  0.155552   \n",
       "Block             0.932411     0.518165  0.519603  0.438023  0.548036   \n",
       "ReusedCount       0.735193     0.612327  0.684802  0.410324  0.594109   \n",
       "Longitude         0.055256     0.016181  0.085228 -0.143677 -0.042160   \n",
       "Latitude         -0.054194    -0.014655 -0.084547  0.144427  0.042669   \n",
       "Class             0.401923     0.199992  0.149787  0.642540  0.207582   \n",
       "\n",
       "                  Legs     Block  ReusedCount  Longitude  Latitude     Class  \n",
       "FlightNumber  0.373619  0.932411     0.735193   0.055256 -0.054194  0.401923  \n",
       "PayloadMass   0.192318  0.518165     0.612327   0.016181 -0.014655  0.199992  \n",
       "Flights       0.157727  0.519603     0.684802   0.085228 -0.084547  0.149787  \n",
       "GridFins      0.902302  0.438023     0.410324  -0.143677  0.144427  0.642540  \n",
       "Reused        0.155552  0.548036     0.594109  -0.042160  0.042669  0.207582  \n",
       "Legs          1.000000  0.368994     0.375496  -0.057701  0.058161  0.673825  \n",
       "Block         0.368994  1.000000     0.743340  -0.030037  0.031621  0.416015  \n",
       "ReusedCount   0.375496  0.743340     1.000000  -0.101877  0.102668  0.466584  \n",
       "Longitude    -0.057701 -0.030037    -0.101877   1.000000 -0.999966 -0.089519  \n",
       "Latitude      0.058161  0.031621     0.102668  -0.999966  1.000000  0.090782  \n",
       "Class         0.673825  0.416015     0.466584  -0.089519  0.090782  1.000000  "
      ]
     },
     "execution_count": 9,
     "metadata": {},
     "output_type": "execute_result"
    }
   ],
   "source": [
    "df.corr()"
   ]
  },
  {
   "cell_type": "code",
   "execution_count": 10,
   "id": "bddc100f",
   "metadata": {},
   "outputs": [
    {
     "data": {
      "text/html": [
       "<div>\n",
       "<style scoped>\n",
       "    .dataframe tbody tr th:only-of-type {\n",
       "        vertical-align: middle;\n",
       "    }\n",
       "\n",
       "    .dataframe tbody tr th {\n",
       "        vertical-align: top;\n",
       "    }\n",
       "\n",
       "    .dataframe thead th {\n",
       "        text-align: right;\n",
       "    }\n",
       "</style>\n",
       "<table border=\"1\" class=\"dataframe\">\n",
       "  <thead>\n",
       "    <tr style=\"text-align: right;\">\n",
       "      <th></th>\n",
       "      <th>FlightNumber</th>\n",
       "      <th>PayloadMass</th>\n",
       "      <th>Flights</th>\n",
       "      <th>Block</th>\n",
       "      <th>ReusedCount</th>\n",
       "      <th>Longitude</th>\n",
       "      <th>Latitude</th>\n",
       "    </tr>\n",
       "  </thead>\n",
       "  <tbody>\n",
       "    <tr>\n",
       "      <th>0</th>\n",
       "      <td>1</td>\n",
       "      <td>6104.959412</td>\n",
       "      <td>1</td>\n",
       "      <td>1.0</td>\n",
       "      <td>0</td>\n",
       "      <td>-80.577366</td>\n",
       "      <td>28.561857</td>\n",
       "    </tr>\n",
       "    <tr>\n",
       "      <th>1</th>\n",
       "      <td>2</td>\n",
       "      <td>525.000000</td>\n",
       "      <td>1</td>\n",
       "      <td>1.0</td>\n",
       "      <td>0</td>\n",
       "      <td>-80.577366</td>\n",
       "      <td>28.561857</td>\n",
       "    </tr>\n",
       "    <tr>\n",
       "      <th>2</th>\n",
       "      <td>3</td>\n",
       "      <td>677.000000</td>\n",
       "      <td>1</td>\n",
       "      <td>1.0</td>\n",
       "      <td>0</td>\n",
       "      <td>-80.577366</td>\n",
       "      <td>28.561857</td>\n",
       "    </tr>\n",
       "    <tr>\n",
       "      <th>3</th>\n",
       "      <td>4</td>\n",
       "      <td>500.000000</td>\n",
       "      <td>1</td>\n",
       "      <td>1.0</td>\n",
       "      <td>0</td>\n",
       "      <td>-120.610829</td>\n",
       "      <td>34.632093</td>\n",
       "    </tr>\n",
       "    <tr>\n",
       "      <th>4</th>\n",
       "      <td>5</td>\n",
       "      <td>3170.000000</td>\n",
       "      <td>1</td>\n",
       "      <td>1.0</td>\n",
       "      <td>0</td>\n",
       "      <td>-80.577366</td>\n",
       "      <td>28.561857</td>\n",
       "    </tr>\n",
       "    <tr>\n",
       "      <th>...</th>\n",
       "      <td>...</td>\n",
       "      <td>...</td>\n",
       "      <td>...</td>\n",
       "      <td>...</td>\n",
       "      <td>...</td>\n",
       "      <td>...</td>\n",
       "      <td>...</td>\n",
       "    </tr>\n",
       "    <tr>\n",
       "      <th>85</th>\n",
       "      <td>86</td>\n",
       "      <td>15400.000000</td>\n",
       "      <td>2</td>\n",
       "      <td>5.0</td>\n",
       "      <td>2</td>\n",
       "      <td>-80.603956</td>\n",
       "      <td>28.608058</td>\n",
       "    </tr>\n",
       "    <tr>\n",
       "      <th>86</th>\n",
       "      <td>87</td>\n",
       "      <td>15400.000000</td>\n",
       "      <td>3</td>\n",
       "      <td>5.0</td>\n",
       "      <td>2</td>\n",
       "      <td>-80.603956</td>\n",
       "      <td>28.608058</td>\n",
       "    </tr>\n",
       "    <tr>\n",
       "      <th>87</th>\n",
       "      <td>88</td>\n",
       "      <td>15400.000000</td>\n",
       "      <td>6</td>\n",
       "      <td>5.0</td>\n",
       "      <td>5</td>\n",
       "      <td>-80.603956</td>\n",
       "      <td>28.608058</td>\n",
       "    </tr>\n",
       "    <tr>\n",
       "      <th>88</th>\n",
       "      <td>89</td>\n",
       "      <td>15400.000000</td>\n",
       "      <td>3</td>\n",
       "      <td>5.0</td>\n",
       "      <td>2</td>\n",
       "      <td>-80.577366</td>\n",
       "      <td>28.561857</td>\n",
       "    </tr>\n",
       "    <tr>\n",
       "      <th>89</th>\n",
       "      <td>90</td>\n",
       "      <td>3681.000000</td>\n",
       "      <td>1</td>\n",
       "      <td>5.0</td>\n",
       "      <td>0</td>\n",
       "      <td>-80.577366</td>\n",
       "      <td>28.561857</td>\n",
       "    </tr>\n",
       "  </tbody>\n",
       "</table>\n",
       "<p>90 rows × 7 columns</p>\n",
       "</div>"
      ],
      "text/plain": [
       "    FlightNumber   PayloadMass  Flights  Block  ReusedCount   Longitude  \\\n",
       "0              1   6104.959412        1    1.0            0  -80.577366   \n",
       "1              2    525.000000        1    1.0            0  -80.577366   \n",
       "2              3    677.000000        1    1.0            0  -80.577366   \n",
       "3              4    500.000000        1    1.0            0 -120.610829   \n",
       "4              5   3170.000000        1    1.0            0  -80.577366   \n",
       "..           ...           ...      ...    ...          ...         ...   \n",
       "85            86  15400.000000        2    5.0            2  -80.603956   \n",
       "86            87  15400.000000        3    5.0            2  -80.603956   \n",
       "87            88  15400.000000        6    5.0            5  -80.603956   \n",
       "88            89  15400.000000        3    5.0            2  -80.577366   \n",
       "89            90   3681.000000        1    5.0            0  -80.577366   \n",
       "\n",
       "     Latitude  \n",
       "0   28.561857  \n",
       "1   28.561857  \n",
       "2   28.561857  \n",
       "3   34.632093  \n",
       "4   28.561857  \n",
       "..        ...  \n",
       "85  28.608058  \n",
       "86  28.608058  \n",
       "87  28.608058  \n",
       "88  28.561857  \n",
       "89  28.561857  \n",
       "\n",
       "[90 rows x 7 columns]"
      ]
     },
     "execution_count": 10,
     "metadata": {},
     "output_type": "execute_result"
    }
   ],
   "source": [
    "#To show the exact data of each numerical feature\n",
    "num = df[['FlightNumber','PayloadMass','Flights','Block','ReusedCount','Longitude','Latitude']]\n",
    "num"
   ]
  },
  {
   "cell_type": "code",
   "execution_count": 11,
   "id": "768a4148",
   "metadata": {},
   "outputs": [
    {
     "data": {
      "text/plain": [
       "Text(0.5, 1.0, 'Correlation matrix & Heatmap')"
      ]
     },
     "execution_count": 11,
     "metadata": {},
     "output_type": "execute_result"
    },
    {
     "data": {
      "image/png": "[encoded data removed]",
      "text/plain": [
       "<Figure size 720x504 with 2 Axes>"
      ]
     },
     "metadata": {
      "needs_background": "light"
     },
     "output_type": "display_data"
    }
   ],
   "source": [
    "# Use correlation matrix and heatmap to represent the quantifiable relationship among the features\n",
    "plt.figure(figsize =(10,7))\n",
    "corrmat = df.corr()\n",
    "sns.heatmap(corrmat, square=True, annot=True, cbar=True, cmap=\"coolwarm\");\n",
    "plt.title('Correlation matrix & Heatmap',fontsize = 30)"
   ]
  },
  {
   "cell_type": "markdown",
   "id": "4b1fd5a5",
   "metadata": {},
   "source": [
    "From the heatmap above, we can identify that GridFins and Legs has very high correlation as their combination gives a positive correlation of 0.9."
   ]
  },
  {
   "cell_type": "code",
   "execution_count": 12,
   "id": "06fb0baa",
   "metadata": {},
   "outputs": [],
   "source": [
    "#plt.figure(figsize =(15,15))\n",
    "#sns.pairplot(df, hue='Class')\n",
    "#plt.show()\n",
    "# later remember to uncomment back"
   ]
  },
  {
   "cell_type": "markdown",
   "id": "d7206949",
   "metadata": {},
   "source": [
    "The image above shown multiple pairwise bivariate distributions of the data that shows the relationship for each pair of columns."
   ]
  },
  {
   "cell_type": "markdown",
   "id": "91ae1000",
   "metadata": {},
   "source": [
    "## Categorical Feature Analysis"
   ]
  },
  {
   "cell_type": "code",
   "execution_count": 13,
   "id": "fa46440e",
   "metadata": {},
   "outputs": [
    {
     "data": {
      "text/html": [
       "<div>\n",
       "<style scoped>\n",
       "    .dataframe tbody tr th:only-of-type {\n",
       "        vertical-align: middle;\n",
       "    }\n",
       "\n",
       "    .dataframe tbody tr th {\n",
       "        vertical-align: top;\n",
       "    }\n",
       "\n",
       "    .dataframe thead th {\n",
       "        text-align: right;\n",
       "    }\n",
       "</style>\n",
       "<table border=\"1\" class=\"dataframe\">\n",
       "  <thead>\n",
       "    <tr style=\"text-align: right;\">\n",
       "      <th></th>\n",
       "      <th>Date</th>\n",
       "      <th>BoosterVersion</th>\n",
       "      <th>Orbit</th>\n",
       "      <th>LaunchSite</th>\n",
       "      <th>Outcome</th>\n",
       "      <th>GridFins</th>\n",
       "      <th>Reused</th>\n",
       "      <th>Legs</th>\n",
       "      <th>LandingPad</th>\n",
       "      <th>Serial</th>\n",
       "      <th>Class</th>\n",
       "    </tr>\n",
       "  </thead>\n",
       "  <tbody>\n",
       "    <tr>\n",
       "      <th>0</th>\n",
       "      <td>2010-06-04</td>\n",
       "      <td>Falcon 9</td>\n",
       "      <td>LEO</td>\n",
       "      <td>CCAFS SLC 40</td>\n",
       "      <td>None None</td>\n",
       "      <td>False</td>\n",
       "      <td>False</td>\n",
       "      <td>False</td>\n",
       "      <td>NaN</td>\n",
       "      <td>B0003</td>\n",
       "      <td>0</td>\n",
       "    </tr>\n",
       "    <tr>\n",
       "      <th>1</th>\n",
       "      <td>2012-05-22</td>\n",
       "      <td>Falcon 9</td>\n",
       "      <td>LEO</td>\n",
       "      <td>CCAFS SLC 40</td>\n",
       "      <td>None None</td>\n",
       "      <td>False</td>\n",
       "      <td>False</td>\n",
       "      <td>False</td>\n",
       "      <td>NaN</td>\n",
       "      <td>B0005</td>\n",
       "      <td>0</td>\n",
       "    </tr>\n",
       "    <tr>\n",
       "      <th>2</th>\n",
       "      <td>2013-03-01</td>\n",
       "      <td>Falcon 9</td>\n",
       "      <td>ISS</td>\n",
       "      <td>CCAFS SLC 40</td>\n",
       "      <td>None None</td>\n",
       "      <td>False</td>\n",
       "      <td>False</td>\n",
       "      <td>False</td>\n",
       "      <td>NaN</td>\n",
       "      <td>B0007</td>\n",
       "      <td>0</td>\n",
       "    </tr>\n",
       "    <tr>\n",
       "      <th>3</th>\n",
       "      <td>2013-09-29</td>\n",
       "      <td>Falcon 9</td>\n",
       "      <td>PO</td>\n",
       "      <td>VAFB SLC 4E</td>\n",
       "      <td>False Ocean</td>\n",
       "      <td>False</td>\n",
       "      <td>False</td>\n",
       "      <td>False</td>\n",
       "      <td>NaN</td>\n",
       "      <td>B1003</td>\n",
       "      <td>0</td>\n",
       "    </tr>\n",
       "    <tr>\n",
       "      <th>4</th>\n",
       "      <td>2013-12-03</td>\n",
       "      <td>Falcon 9</td>\n",
       "      <td>GTO</td>\n",
       "      <td>CCAFS SLC 40</td>\n",
       "      <td>None None</td>\n",
       "      <td>False</td>\n",
       "      <td>False</td>\n",
       "      <td>False</td>\n",
       "      <td>NaN</td>\n",
       "      <td>B1004</td>\n",
       "      <td>0</td>\n",
       "    </tr>\n",
       "    <tr>\n",
       "      <th>...</th>\n",
       "      <td>...</td>\n",
       "      <td>...</td>\n",
       "      <td>...</td>\n",
       "      <td>...</td>\n",
       "      <td>...</td>\n",
       "      <td>...</td>\n",
       "      <td>...</td>\n",
       "      <td>...</td>\n",
       "      <td>...</td>\n",
       "      <td>...</td>\n",
       "      <td>...</td>\n",
       "    </tr>\n",
       "    <tr>\n",
       "      <th>85</th>\n",
       "      <td>2020-09-03</td>\n",
       "      <td>Falcon 9</td>\n",
       "      <td>VLEO</td>\n",
       "      <td>KSC LC 39A</td>\n",
       "      <td>True ASDS</td>\n",
       "      <td>True</td>\n",
       "      <td>True</td>\n",
       "      <td>True</td>\n",
       "      <td>5e9e3032383ecb6bb234e7ca</td>\n",
       "      <td>B1060</td>\n",
       "      <td>1</td>\n",
       "    </tr>\n",
       "    <tr>\n",
       "      <th>86</th>\n",
       "      <td>2020-10-06</td>\n",
       "      <td>Falcon 9</td>\n",
       "      <td>VLEO</td>\n",
       "      <td>KSC LC 39A</td>\n",
       "      <td>True ASDS</td>\n",
       "      <td>True</td>\n",
       "      <td>True</td>\n",
       "      <td>True</td>\n",
       "      <td>5e9e3032383ecb6bb234e7ca</td>\n",
       "      <td>B1058</td>\n",
       "      <td>1</td>\n",
       "    </tr>\n",
       "    <tr>\n",
       "      <th>87</th>\n",
       "      <td>2020-10-18</td>\n",
       "      <td>Falcon 9</td>\n",
       "      <td>VLEO</td>\n",
       "      <td>KSC LC 39A</td>\n",
       "      <td>True ASDS</td>\n",
       "      <td>True</td>\n",
       "      <td>True</td>\n",
       "      <td>True</td>\n",
       "      <td>5e9e3032383ecb6bb234e7ca</td>\n",
       "      <td>B1051</td>\n",
       "      <td>1</td>\n",
       "    </tr>\n",
       "    <tr>\n",
       "      <th>88</th>\n",
       "      <td>2020-10-24</td>\n",
       "      <td>Falcon 9</td>\n",
       "      <td>VLEO</td>\n",
       "      <td>CCAFS SLC 40</td>\n",
       "      <td>True ASDS</td>\n",
       "      <td>True</td>\n",
       "      <td>True</td>\n",
       "      <td>True</td>\n",
       "      <td>5e9e3033383ecbb9e534e7cc</td>\n",
       "      <td>B1060</td>\n",
       "      <td>1</td>\n",
       "    </tr>\n",
       "    <tr>\n",
       "      <th>89</th>\n",
       "      <td>2020-11-05</td>\n",
       "      <td>Falcon 9</td>\n",
       "      <td>MEO</td>\n",
       "      <td>CCAFS SLC 40</td>\n",
       "      <td>True ASDS</td>\n",
       "      <td>True</td>\n",
       "      <td>False</td>\n",
       "      <td>True</td>\n",
       "      <td>5e9e3032383ecb6bb234e7ca</td>\n",
       "      <td>B1062</td>\n",
       "      <td>1</td>\n",
       "    </tr>\n",
       "  </tbody>\n",
       "</table>\n",
       "<p>90 rows × 11 columns</p>\n",
       "</div>"
      ],
      "text/plain": [
       "          Date BoosterVersion Orbit    LaunchSite      Outcome  GridFins  \\\n",
       "0   2010-06-04       Falcon 9   LEO  CCAFS SLC 40    None None     False   \n",
       "1   2012-05-22       Falcon 9   LEO  CCAFS SLC 40    None None     False   \n",
       "2   2013-03-01       Falcon 9   ISS  CCAFS SLC 40    None None     False   \n",
       "3   2013-09-29       Falcon 9    PO   VAFB SLC 4E  False Ocean     False   \n",
       "4   2013-12-03       Falcon 9   GTO  CCAFS SLC 40    None None     False   \n",
       "..         ...            ...   ...           ...          ...       ...   \n",
       "85  2020-09-03       Falcon 9  VLEO    KSC LC 39A    True ASDS      True   \n",
       "86  2020-10-06       Falcon 9  VLEO    KSC LC 39A    True ASDS      True   \n",
       "87  2020-10-18       Falcon 9  VLEO    KSC LC 39A    True ASDS      True   \n",
       "88  2020-10-24       Falcon 9  VLEO  CCAFS SLC 40    True ASDS      True   \n",
       "89  2020-11-05       Falcon 9   MEO  CCAFS SLC 40    True ASDS      True   \n",
       "\n",
       "    Reused   Legs                LandingPad Serial  Class  \n",
       "0    False  False                       NaN  B0003      0  \n",
       "1    False  False                       NaN  B0005      0  \n",
       "2    False  False                       NaN  B0007      0  \n",
       "3    False  False                       NaN  B1003      0  \n",
       "4    False  False                       NaN  B1004      0  \n",
       "..     ...    ...                       ...    ...    ...  \n",
       "85    True   True  5e9e3032383ecb6bb234e7ca  B1060      1  \n",
       "86    True   True  5e9e3032383ecb6bb234e7ca  B1058      1  \n",
       "87    True   True  5e9e3032383ecb6bb234e7ca  B1051      1  \n",
       "88    True   True  5e9e3033383ecbb9e534e7cc  B1060      1  \n",
       "89   False   True  5e9e3032383ecb6bb234e7ca  B1062      1  \n",
       "\n",
       "[90 rows x 11 columns]"
      ]
     },
     "execution_count": 13,
     "metadata": {},
     "output_type": "execute_result"
    }
   ],
   "source": [
    "cat = df[['Date','BoosterVersion','Orbit','LaunchSite','Outcome','GridFins','Reused','Legs','LandingPad','Serial','Class']]\n",
    "cat"
   ]
  },
  {
   "cell_type": "code",
   "execution_count": 14,
   "id": "beab9dc8",
   "metadata": {},
   "outputs": [
    {
     "data": {
      "text/plain": [
       "Date               0\n",
       "BoosterVersion     0\n",
       "Orbit              0\n",
       "LaunchSite         0\n",
       "Outcome            0\n",
       "GridFins           0\n",
       "Reused             0\n",
       "Legs               0\n",
       "LandingPad        26\n",
       "Serial             0\n",
       "Class              0\n",
       "dtype: int64"
      ]
     },
     "execution_count": 14,
     "metadata": {},
     "output_type": "execute_result"
    }
   ],
   "source": [
    "cat.isnull().sum()"
   ]
  },
  {
   "cell_type": "markdown",
   "id": "47fe8822",
   "metadata": {},
   "source": [
    "Since LandingPad contains 26 null values, dropping it may reduce the size of the dataset. Thus, we decide to replace those null values with 'None' which indicates not applicable in the Data Preparation stage."
   ]
  },
  {
   "cell_type": "code",
   "execution_count": 15,
   "id": "a466bd99",
   "metadata": {},
   "outputs": [
    {
     "data": {
      "text/plain": [
       "Date        BoosterVersion  Orbit  LaunchSite    Outcome     GridFins  Reused  Legs  LandingPad                Serial  Class\n",
       "2015-01-10  Falcon 9        ISS    CCAFS SLC 40  False ASDS  True      False   True  5e9e3032383ecb761634e7cb  B1012   0        1\n",
       "2015-04-14  Falcon 9        ISS    CCAFS SLC 40  False ASDS  True      False   True  5e9e3032383ecb761634e7cb  B1015   0        1\n",
       "2018-11-15  Falcon 9        GTO    KSC LC 39A    True ASDS   True      True    True  5e9e3032383ecb6bb234e7ca  B1047   1        1\n",
       "2018-12-03  Falcon 9        SSO    VAFB SLC 4E   True ASDS   True      True    True  5e9e3033383ecbb9e534e7cc  B1046   1        1\n",
       "2018-12-05  Falcon 9        ISS    CCAFS SLC 40  False RTLS  True      False   True  5e9e3032383ecb267a34e7c7  B1050   0        1\n",
       "                                                                                                                               ..\n",
       "2018-01-08  Falcon 9        LEO    CCAFS SLC 40  True RTLS   True      False   True  5e9e3032383ecb267a34e7c7  B1043   1        1\n",
       "2018-04-18  Falcon 9        HEO    CCAFS SLC 40  True ASDS   True      False   True  5e9e3032383ecb6bb234e7ca  B1045   1        1\n",
       "2018-05-11  Falcon 9        GTO    KSC LC 39A    True ASDS   True      False   True  5e9e3032383ecb6bb234e7ca  B1046   1        1\n",
       "2018-07-22  Falcon 9        GTO    CCAFS SLC 40  True ASDS   True      False   True  5e9e3032383ecb6bb234e7ca  B1047   1        1\n",
       "2020-11-05  Falcon 9        MEO    CCAFS SLC 40  True ASDS   True      False   True  5e9e3032383ecb6bb234e7ca  B1062   1        1\n",
       "Length: 64, dtype: int64"
      ]
     },
     "execution_count": 15,
     "metadata": {},
     "output_type": "execute_result"
    }
   ],
   "source": [
    "cat.value_counts()"
   ]
  },
  {
   "cell_type": "code",
   "execution_count": 16,
   "id": "c3adb1d4",
   "metadata": {},
   "outputs": [
    {
     "data": {
      "text/plain": [
       "Date              90\n",
       "BoosterVersion     1\n",
       "Orbit             11\n",
       "LaunchSite         3\n",
       "Outcome            8\n",
       "GridFins           2\n",
       "Reused             2\n",
       "Legs               2\n",
       "LandingPad         5\n",
       "Serial            53\n",
       "Class              2\n",
       "dtype: int64"
      ]
     },
     "execution_count": 16,
     "metadata": {},
     "output_type": "execute_result"
    }
   ],
   "source": [
    "cat.nunique()"
   ]
  },
  {
   "cell_type": "code",
   "execution_count": 17,
   "id": "ccba7f4f",
   "metadata": {},
   "outputs": [
    {
     "name": "stdout",
     "output_type": "stream",
     "text": [
      "Date\n",
      "2010-06-04    1\n",
      "2019-08-06    1\n",
      "2019-06-12    1\n",
      "2019-05-24    1\n",
      "2019-05-04    1\n",
      "             ..\n",
      "2017-03-30    1\n",
      "2017-03-16    1\n",
      "2017-02-19    1\n",
      "2017-01-14    1\n",
      "2020-11-05    1\n",
      "Name: Date, Length: 90, dtype: int64\n",
      "\n",
      "BoosterVersion\n",
      "Falcon 9    90\n",
      "Name: BoosterVersion, dtype: int64\n",
      "\n",
      "Orbit\n",
      "GTO      27\n",
      "ISS      21\n",
      "VLEO     14\n",
      "PO        9\n",
      "LEO       7\n",
      "SSO       5\n",
      "MEO       3\n",
      "ES-L1     1\n",
      "HEO       1\n",
      "SO        1\n",
      "GEO       1\n",
      "Name: Orbit, dtype: int64\n",
      "\n",
      "LaunchSite\n",
      "CCAFS SLC 40    55\n",
      "KSC LC 39A      22\n",
      "VAFB SLC 4E     13\n",
      "Name: LaunchSite, dtype: int64\n",
      "\n",
      "Outcome\n",
      "True ASDS      41\n",
      "None None      19\n",
      "True RTLS      14\n",
      "False ASDS      6\n",
      "True Ocean      5\n",
      "False Ocean     2\n",
      "None ASDS       2\n",
      "False RTLS      1\n",
      "Name: Outcome, dtype: int64\n",
      "\n",
      "GridFins\n",
      "True     70\n",
      "False    20\n",
      "Name: GridFins, dtype: int64\n",
      "\n",
      "Reused\n",
      "False    53\n",
      "True     37\n",
      "Name: Reused, dtype: int64\n",
      "\n",
      "Legs\n",
      "True     71\n",
      "False    19\n",
      "Name: Legs, dtype: int64\n",
      "\n",
      "LandingPad\n",
      "5e9e3032383ecb6bb234e7ca    35\n",
      "5e9e3032383ecb267a34e7c7    13\n",
      "5e9e3033383ecbb9e534e7cc    12\n",
      "5e9e3032383ecb761634e7cb     2\n",
      "5e9e3032383ecb554034e7c9     2\n",
      "Name: LandingPad, dtype: int64\n",
      "\n",
      "Serial\n",
      "B1049    6\n",
      "B1051    5\n",
      "B1059    4\n",
      "B1056    4\n",
      "B1048    4\n",
      "B1046    4\n",
      "B1060    3\n",
      "B1058    3\n",
      "B1047    3\n",
      "B1031    2\n",
      "B1036    2\n",
      "B1021    2\n",
      "B1039    2\n",
      "B1035    2\n",
      "B1041    2\n",
      "B1029    2\n",
      "B1040    2\n",
      "B1045    2\n",
      "B1032    2\n",
      "B1042    1\n",
      "B1043    1\n",
      "B1038    1\n",
      "B1044    1\n",
      "B1037    1\n",
      "B1050    1\n",
      "B1054    1\n",
      "B1034    1\n",
      "B0003    1\n",
      "B1030    1\n",
      "B1013    1\n",
      "B0007    1\n",
      "B1003    1\n",
      "B1004    1\n",
      "B1005    1\n",
      "B1006    1\n",
      "B1007    1\n",
      "B1008    1\n",
      "B1011    1\n",
      "B1010    1\n",
      "B1012    1\n",
      "B1015    1\n",
      "B0005    1\n",
      "B1016    1\n",
      "B1018    1\n",
      "B1019    1\n",
      "B1017    1\n",
      "B1020    1\n",
      "B1022    1\n",
      "B1023    1\n",
      "B1025    1\n",
      "B1026    1\n",
      "B1028    1\n",
      "B1062    1\n",
      "Name: Serial, dtype: int64\n",
      "\n",
      "Class\n",
      "1    60\n",
      "0    30\n",
      "Name: Class, dtype: int64\n",
      "\n"
     ]
    }
   ],
   "source": [
    "for column in cat:\n",
    "    print('%s\\n%s\\n' % (column, cat[column].value_counts()))"
   ]
  },
  {
   "cell_type": "markdown",
   "id": "0e195006",
   "metadata": {},
   "source": [
    "From here we can noticed that the BoosterVersion has only 1 unique value which is 'Falcon 9'. Thus, this features might not be useful in the classification task later. "
   ]
  },
  {
   "cell_type": "code",
   "execution_count": 18,
   "id": "32026762",
   "metadata": {
    "scrolled": false
   },
   "outputs": [
    {
     "data": {
      "text/plain": [
       "<AxesSubplot:xlabel='Serial'>"
      ]
     },
     "execution_count": 18,
     "metadata": {},
     "output_type": "execute_result"
    },
    {
     "data": {
      "image/png": "[encoded data removed]",
      "text/plain": [
       "<Figure size 432x288 with 1 Axes>"
      ]
     },
     "metadata": {
      "needs_background": "light"
     },
     "output_type": "display_data"
    },
    {
     "data": {
      "image/png": "[encoded data removed]",
      "text/plain": [
       "<Figure size 432x288 with 1 Axes>"
      ]
     },
     "metadata": {
      "needs_background": "light"
     },
     "output_type": "display_data"
    },
    {
     "data": {
      "image/png": "[encoded data removed]",
      "text/plain": [
       "<Figure size 432x288 with 1 Axes>"
      ]
     },
     "metadata": {
      "needs_background": "light"
     },
     "output_type": "display_data"
    },
    {
     "data": {
      "image/png": "[encoded data removed]",
      "text/plain": [
       "<Figure size 432x288 with 1 Axes>"
      ]
     },
     "metadata": {
      "needs_background": "light"
     },
     "output_type": "display_data"
    },
    {
     "data": {
      "image/png": "[encoded data removed]",
      "text/plain": [
       "<Figure size 432x288 with 1 Axes>"
      ]
     },
     "metadata": {
      "needs_background": "light"
     },
     "output_type": "display_data"
    },
    {
     "data": {
      "image/png": "[encoded data removed]",
      "text/plain": [
       "<Figure size 432x288 with 1 Axes>"
      ]
     },
     "metadata": {
      "needs_background": "light"
     },
     "output_type": "display_data"
    }
   ],
   "source": [
    "df.groupby(['Orbit','Class']).size().unstack().plot(kind='bar')\n",
    "df.groupby(['BoosterVersion','Class']).size().unstack().plot(kind='bar')\n",
    "df.groupby(['LaunchSite','Class']).size().unstack().plot(kind='bar')\n",
    "df.groupby(['Outcome','Class']).size().unstack().plot(kind='bar')\n",
    "df.groupby(['LandingPad','Class']).size().unstack().plot(kind='bar')\n",
    "df.groupby(['Serial','Class']).size().unstack().plot(kind='bar')"
   ]
  },
  {
   "cell_type": "markdown",
   "id": "fb004819",
   "metadata": {},
   "source": [
    "Since Date consists of very large number of unique value counts, we consider to plot its relation with the class by performing manual grouping (separated by years or months):"
   ]
  },
  {
   "cell_type": "code",
   "execution_count": 19,
   "id": "fede02f7",
   "metadata": {},
   "outputs": [
    {
     "data": {
      "text/plain": [
       "<AxesSubplot:xlabel='Month'>"
      ]
     },
     "execution_count": 19,
     "metadata": {},
     "output_type": "execute_result"
    },
    {
     "data": {
      "image/png": "[encoded data removed]",
      "text/plain": [
       "<Figure size 432x288 with 1 Axes>"
      ]
     },
     "metadata": {
      "needs_background": "light"
     },
     "output_type": "display_data"
    },
    {
     "data": {
      "image/png": "[encoded data removed]",
      "text/plain": [
       "<Figure size 432x288 with 1 Axes>"
      ]
     },
     "metadata": {
      "needs_background": "light"
     },
     "output_type": "display_data"
    }
   ],
   "source": [
    "year = []\n",
    "month = []\n",
    "for i in df[\"Date\"]:\n",
    "    year.append(i.split(\"-\")[0])\n",
    "    month.append(i.split(\"-\")[1])\n",
    "\n",
    "df1 = df.copy()\n",
    "df1[\"Year\"] = year\n",
    "df1.groupby(['Year','Class']).size().unstack().plot(kind='bar')\n",
    "\n",
    "df2 = df.copy()\n",
    "df2[\"Month\"] = month\n",
    "df2.groupby(['Month','Class']).size().unstack().plot(kind='bar')"
   ]
  },
  {
   "cell_type": "markdown",
   "id": "9bf4277f",
   "metadata": {},
   "source": [
    "# ++oct and nov high success rate"
   ]
  },
  {
   "cell_type": "markdown",
   "id": "5d74b4c6",
   "metadata": {},
   "source": [
    "From the graphs above, we can say that all these categorical features might be crucial for the analysis and prediction afterwards except BoosterVersion as there is only \"Falcon9\" that fill up all the row of BoosterVersion, which does not take count as a crucial categorical features."
   ]
  },
  {
   "cell_type": "code",
   "execution_count": 20,
   "id": "8e5560c2",
   "metadata": {},
   "outputs": [
    {
     "name": "stdout",
     "output_type": "stream",
     "text": [
      "Original data shape: (90, 18)\n",
      "Splitted training data shape: (72, 18)\n",
      "Splitted testing data shape: (18, 18)\n"
     ]
    }
   ],
   "source": [
    "from sklearn.model_selection import train_test_split\n",
    "spacex_train, spacex_test = train_test_split(df, test_size=0.2, random_state=2)\n",
    "print(\"Original data shape: {}\".format(df.shape))\n",
    "print(\"Splitted training data shape: {}\".format(spacex_train.shape))\n",
    "print(\"Splitted testing data shape: {}\".format(spacex_test.shape))"
   ]
  },
  {
   "cell_type": "markdown",
   "id": "b05431b1",
   "metadata": {},
   "source": [
    "# ++launch site vs long lati, flight no v payload"
   ]
  },
  {
   "cell_type": "code",
   "execution_count": 21,
   "id": "03872c81",
   "metadata": {},
   "outputs": [
    {
     "data": {
      "image/png": "[encoded data removed]",
      "text/plain": [
       "<Figure size 402.375x360 with 1 Axes>"
      ]
     },
     "metadata": {
      "needs_background": "light"
     },
     "output_type": "display_data"
    }
   ],
   "source": [
    "# Visualize the relationship between launch site and flight number to get insight on which launch site result in better \n",
    "# landing outcome)\n",
    "sns.catplot(y=\"FlightNumber\", x=\"LaunchSite\", hue=\"Class\", data=spacex_train)\n",
    "plt.show()"
   ]
  },
  {
   "cell_type": "markdown",
   "id": "3330fc0c",
   "metadata": {},
   "source": [
    "Based on the graph above, we can observe that most of the flight are launch at CCAFS SLC 40 while least of the flight are launch at VAFB SLC 4E"
   ]
  },
  {
   "cell_type": "code",
   "execution_count": 22,
   "id": "23d9b4dd",
   "metadata": {},
   "outputs": [
    {
     "data": {
      "image/png": "[encoded data removed]",
      "text/plain": [
       "<Figure size 402.375x360 with 1 Axes>"
      ]
     },
     "metadata": {
      "needs_background": "light"
     },
     "output_type": "display_data"
    }
   ],
   "source": [
    "# Visualize the relationship between payload and launch site to get insight on which launch site result in better \n",
    "# landing outcome when the rocket carrying different weights\n",
    "sns.catplot(y=\"LaunchSite\", x=\"PayloadMass\", hue=\"Class\", data=spacex_train)\n",
    "plt.show()"
   ]
  },
  {
   "cell_type": "markdown",
   "id": "278b8ec9",
   "metadata": {},
   "source": [
    "The launch site CCAFS SLC 40 and VAFB SLC 4E had a high chances of success when the payload mass was higher. Meanwhile, KSC LC 39A VAFB SLC 4E had high chance of success when it carry light payload."
   ]
  },
  {
   "cell_type": "code",
   "execution_count": 23,
   "id": "a7aeb4ea",
   "metadata": {},
   "outputs": [
    {
     "data": {
      "image/png": "[encoded data removed]",
      "text/plain": [
       "<Figure size 432x288 with 1 Axes>"
      ]
     },
     "metadata": {
      "needs_background": "light"
     },
     "output_type": "display_data"
    }
   ],
   "source": [
    "#Visualize the relationship between the orbit and PayloadMass\n",
    "sns.scatterplot(x=spacex_train[\"PayloadMass\"], y=spacex_train[\"Orbit\"], data=spacex_train, hue=\"Class\")\n",
    "\n",
    "plt.show()"
   ]
  },
  {
   "cell_type": "markdown",
   "id": "0def4236",
   "metadata": {},
   "source": [
    "We could say the heavier the payloads, the greater the success rate of rocket launching for most of the orbit. Meanwhile, LEO orbit gives negative result as payload mass increased. Outcome from GTO orbit seems do not related to payload mass. On the other hand, we cannot say that payload mass will have any impact on choosing the HEO orbit and ES-L1 for lauching yet since they only being adapted once."
   ]
  },
  {
   "cell_type": "code",
   "execution_count": 24,
   "id": "5b47bda7",
   "metadata": {},
   "outputs": [
    {
     "data": {
      "image/png": "[encoded data removed]",
      "text/plain": [
       "<Figure size 432x288 with 1 Axes>"
      ]
     },
     "metadata": {
      "needs_background": "light"
     },
     "output_type": "display_data"
    }
   ],
   "source": [
    "# Visualize the relationship between flight number and orbit type to get insight on as SpaceX launches more rocket which orbit\n",
    "# will have better launching outcome\n",
    "sns.scatterplot(x=spacex_train[\"FlightNumber\"], y=spacex_train[\"Orbit\"], data=spacex_train, hue=\"Class\")\n",
    "plt.show()"
   ]
  },
  {
   "cell_type": "markdown",
   "id": "990be80b",
   "metadata": {},
   "source": [
    "As SpaceX keep launching rocket, it can be seen that the LEO orbit and SSO orbit gives positive outcome. It seems to be no relationship between flight number when the launching is using VLEO orbit, ISS orbit, PO orbit and GTO orbit. Meanwhile for GEO orbit, SO orbit, HEO orbit, MEO orbit and ES-L1 orbit they only being used few times so we could not say that they have higher or lower success rate."
   ]
  },
  {
   "cell_type": "code",
   "execution_count": 25,
   "id": "43c39abc",
   "metadata": {},
   "outputs": [
    {
     "data": {
      "image/png": "[encoded data removed]",
      "text/plain": [
       "<Figure size 1008x576 with 1 Axes>"
      ]
     },
     "metadata": {
      "needs_background": "light"
     },
     "output_type": "display_data"
    }
   ],
   "source": [
    "#Visualize the relationship between Orbit (orbit chosen) and Class (outcome of the launching)\n",
    "\n",
    "#optional methods:\n",
    "#orbitcount = spacex_train.groupby(['Orbit', 'Class'])['Class'].count()\n",
    "#orbitcount.plot(kind='bar', figsize=(15, 5), color = \"orange\")\n",
    "\n",
    "orbitsr = spacex_train.groupby(['Orbit','Class'])['Class'].count().unstack(0).plot.bar(figsize=(14,8))\n",
    "_ = orbitsr.set_xlabel('Orbit')\n",
    "_ = orbitsr.set_ylabel('Class')"
   ]
  },
  {
   "cell_type": "markdown",
   "id": "2fdbbb4a",
   "metadata": {},
   "source": [
    "We could see that VLEO orbit, Po orbit, LEO orbit and ISS orbit have a higher chances of success rate, GTO orbit has higher failure rate, and other orbits only had too few launches so cannot derive a conclusion on their success rate."
   ]
  },
  {
   "cell_type": "markdown",
   "id": "68795f05",
   "metadata": {},
   "source": [
    "# Object Queries"
   ]
  },
  {
   "cell_type": "code",
   "execution_count": 26,
   "id": "6b6300f9",
   "metadata": {},
   "outputs": [
    {
     "data": {
      "text/plain": [
       "BoosterVersion\n",
       "Falcon 9    431077.387647\n",
       "Name: PayloadMass, dtype: float64"
      ]
     },
     "execution_count": 26,
     "metadata": {},
     "output_type": "execute_result"
    }
   ],
   "source": [
    "# Display the total payload mass carried out by boosters launched by Nasa\n",
    "spacex_train.groupby(['BoosterVersion']).sum()['PayloadMass']"
   ]
  },
  {
   "cell_type": "code",
   "execution_count": 27,
   "id": "c55a054d",
   "metadata": {},
   "outputs": [
    {
     "data": {
      "text/plain": [
       "'2012-05-22'"
      ]
     },
     "execution_count": 27,
     "metadata": {},
     "output_type": "execute_result"
    }
   ],
   "source": [
    "# Find the date when the first landing launched.\n",
    "min(spacex_train['Date'])"
   ]
  },
  {
   "cell_type": "code",
   "execution_count": 28,
   "id": "78b8522c",
   "metadata": {
    "scrolled": true
   },
   "outputs": [
    {
     "data": {
      "text/plain": [
       "Orbit\n",
       "ES-L1     1\n",
       "GEO       1\n",
       "GTO      11\n",
       "ISS      12\n",
       "LEO       5\n",
       "MEO       1\n",
       "PO        5\n",
       "SO        0\n",
       "SSO       3\n",
       "VLEO      9\n",
       "Name: Class, dtype: int64"
      ]
     },
     "execution_count": 28,
     "metadata": {},
     "output_type": "execute_result"
    }
   ],
   "source": [
    "# Calculate the total number of success class for each orbit type\n",
    "spacex_train.groupby(['Orbit']).sum()['Class']"
   ]
  },
  {
   "cell_type": "code",
   "execution_count": 29,
   "id": "8dc45ade",
   "metadata": {},
   "outputs": [
    {
     "data": {
      "text/plain": [
       "1    48\n",
       "0    24\n",
       "Name: Class, dtype: int64"
      ]
     },
     "execution_count": 29,
     "metadata": {},
     "output_type": "execute_result"
    }
   ],
   "source": [
    "# List the total number of successful outcomes\n",
    "# np.count_nonzero(df['Class']) # this only shows success\n",
    "spacex_train['Class'].value_counts()"
   ]
  },
  {
   "cell_type": "code",
   "execution_count": 30,
   "id": "16eb43f9",
   "metadata": {},
   "outputs": [
    {
     "data": {
      "text/plain": [
       "LaunchSite\n",
       "CCAFS SLC 40    27\n",
       "KSC LC 39A      13\n",
       "VAFB SLC 4E      8\n",
       "Name: Class, dtype: int64"
      ]
     },
     "execution_count": 30,
     "metadata": {},
     "output_type": "execute_result"
    }
   ],
   "source": [
    "# Calculate the total number of successful class for each launch site\n",
    "spacex_train.groupby(['LaunchSite']).sum()['Class']"
   ]
  },
  {
   "cell_type": "code",
   "execution_count": 31,
   "id": "00d1c767",
   "metadata": {},
   "outputs": [
    {
     "data": {
      "text/plain": [
       "Orbit\n",
       "ES-L1     0\n",
       "GEO       1\n",
       "GTO       8\n",
       "ISS       5\n",
       "LEO       0\n",
       "MEO       0\n",
       "PO        3\n",
       "SO        1\n",
       "SSO       3\n",
       "VLEO     10\n",
       "Name: Reused, dtype: int64"
      ]
     },
     "execution_count": 31,
     "metadata": {},
     "output_type": "execute_result"
    }
   ],
   "source": [
    "#Calculate the number of reused component being install on each orbit\n",
    "spacex_train.groupby(['Orbit']).sum()['Reused']"
   ]
  },
  {
   "cell_type": "code",
   "execution_count": 32,
   "id": "01c17311",
   "metadata": {},
   "outputs": [
    {
     "data": {
      "text/plain": [
       "Orbit\n",
       "ES-L1     0\n",
       "GEO       2\n",
       "GTO      24\n",
       "ISS      22\n",
       "LEO       3\n",
       "MEO       0\n",
       "PO       13\n",
       "SO        3\n",
       "SSO      12\n",
       "VLEO     37\n",
       "Name: ReusedCount, dtype: int64"
      ]
     },
     "execution_count": 32,
     "metadata": {},
     "output_type": "execute_result"
    }
   ],
   "source": [
    "#Calculate the number of times a component being reused on each orbit\n",
    "spacex_train.groupby(['Orbit']).sum()['ReusedCount']"
   ]
  },
  {
   "cell_type": "code",
   "execution_count": 33,
   "id": "fed01e0c",
   "metadata": {},
   "outputs": [
    {
     "data": {
      "text/plain": [
       "Orbit\n",
       "ES-L1     1\n",
       "GEO       1\n",
       "GTO      11\n",
       "ISS      12\n",
       "LEO       5\n",
       "MEO       1\n",
       "PO        5\n",
       "SO        0\n",
       "SSO       3\n",
       "VLEO      9\n",
       "Name: Class, dtype: int64"
      ]
     },
     "execution_count": 33,
     "metadata": {},
     "output_type": "execute_result"
    }
   ],
   "source": [
    "#Calculate the number of success round trip of rocket for each orbit\n",
    "spacex_train.groupby(['Orbit']).sum()['Class']"
   ]
  },
  {
   "cell_type": "markdown",
   "id": "14ac843a",
   "metadata": {},
   "source": [
    "## Data Preparation"
   ]
  },
  {
   "cell_type": "code",
   "execution_count": 34,
   "id": "127c089c",
   "metadata": {},
   "outputs": [
    {
     "data": {
      "text/html": [
       "<div>\n",
       "<style scoped>\n",
       "    .dataframe tbody tr th:only-of-type {\n",
       "        vertical-align: middle;\n",
       "    }\n",
       "\n",
       "    .dataframe tbody tr th {\n",
       "        vertical-align: top;\n",
       "    }\n",
       "\n",
       "    .dataframe thead th {\n",
       "        text-align: right;\n",
       "    }\n",
       "</style>\n",
       "<table border=\"1\" class=\"dataframe\">\n",
       "  <thead>\n",
       "    <tr style=\"text-align: right;\">\n",
       "      <th></th>\n",
       "      <th>FlightNumber</th>\n",
       "      <th>PayloadMass</th>\n",
       "      <th>Flights</th>\n",
       "      <th>Block</th>\n",
       "      <th>ReusedCount</th>\n",
       "      <th>Longitude</th>\n",
       "      <th>Latitude</th>\n",
       "      <th>Class</th>\n",
       "    </tr>\n",
       "  </thead>\n",
       "  <tbody>\n",
       "    <tr>\n",
       "      <th>count</th>\n",
       "      <td>90.000000</td>\n",
       "      <td>90.000000</td>\n",
       "      <td>90.000000</td>\n",
       "      <td>90.000000</td>\n",
       "      <td>90.000000</td>\n",
       "      <td>90.000000</td>\n",
       "      <td>90.000000</td>\n",
       "      <td>90.000000</td>\n",
       "    </tr>\n",
       "    <tr>\n",
       "      <th>mean</th>\n",
       "      <td>45.500000</td>\n",
       "      <td>6104.959412</td>\n",
       "      <td>1.788889</td>\n",
       "      <td>3.500000</td>\n",
       "      <td>1.655556</td>\n",
       "      <td>-86.366477</td>\n",
       "      <td>29.449963</td>\n",
       "      <td>0.666667</td>\n",
       "    </tr>\n",
       "    <tr>\n",
       "      <th>std</th>\n",
       "      <td>26.124701</td>\n",
       "      <td>4694.671720</td>\n",
       "      <td>1.213172</td>\n",
       "      <td>1.595288</td>\n",
       "      <td>1.710254</td>\n",
       "      <td>14.149518</td>\n",
       "      <td>2.141306</td>\n",
       "      <td>0.474045</td>\n",
       "    </tr>\n",
       "    <tr>\n",
       "      <th>min</th>\n",
       "      <td>1.000000</td>\n",
       "      <td>350.000000</td>\n",
       "      <td>1.000000</td>\n",
       "      <td>1.000000</td>\n",
       "      <td>0.000000</td>\n",
       "      <td>-120.610829</td>\n",
       "      <td>28.561857</td>\n",
       "      <td>0.000000</td>\n",
       "    </tr>\n",
       "    <tr>\n",
       "      <th>25%</th>\n",
       "      <td>23.250000</td>\n",
       "      <td>2510.750000</td>\n",
       "      <td>1.000000</td>\n",
       "      <td>2.000000</td>\n",
       "      <td>0.000000</td>\n",
       "      <td>-80.603956</td>\n",
       "      <td>28.561857</td>\n",
       "      <td>0.000000</td>\n",
       "    </tr>\n",
       "    <tr>\n",
       "      <th>50%</th>\n",
       "      <td>45.500000</td>\n",
       "      <td>4701.500000</td>\n",
       "      <td>1.000000</td>\n",
       "      <td>4.000000</td>\n",
       "      <td>1.000000</td>\n",
       "      <td>-80.577366</td>\n",
       "      <td>28.561857</td>\n",
       "      <td>1.000000</td>\n",
       "    </tr>\n",
       "    <tr>\n",
       "      <th>75%</th>\n",
       "      <td>67.750000</td>\n",
       "      <td>8912.750000</td>\n",
       "      <td>2.000000</td>\n",
       "      <td>5.000000</td>\n",
       "      <td>3.000000</td>\n",
       "      <td>-80.577366</td>\n",
       "      <td>28.608058</td>\n",
       "      <td>1.000000</td>\n",
       "    </tr>\n",
       "    <tr>\n",
       "      <th>max</th>\n",
       "      <td>90.000000</td>\n",
       "      <td>15600.000000</td>\n",
       "      <td>6.000000</td>\n",
       "      <td>5.000000</td>\n",
       "      <td>5.000000</td>\n",
       "      <td>-80.577366</td>\n",
       "      <td>34.632093</td>\n",
       "      <td>1.000000</td>\n",
       "    </tr>\n",
       "  </tbody>\n",
       "</table>\n",
       "</div>"
      ],
      "text/plain": [
       "       FlightNumber   PayloadMass    Flights      Block  ReusedCount  \\\n",
       "count     90.000000     90.000000  90.000000  90.000000    90.000000   \n",
       "mean      45.500000   6104.959412   1.788889   3.500000     1.655556   \n",
       "std       26.124701   4694.671720   1.213172   1.595288     1.710254   \n",
       "min        1.000000    350.000000   1.000000   1.000000     0.000000   \n",
       "25%       23.250000   2510.750000   1.000000   2.000000     0.000000   \n",
       "50%       45.500000   4701.500000   1.000000   4.000000     1.000000   \n",
       "75%       67.750000   8912.750000   2.000000   5.000000     3.000000   \n",
       "max       90.000000  15600.000000   6.000000   5.000000     5.000000   \n",
       "\n",
       "        Longitude   Latitude      Class  \n",
       "count   90.000000  90.000000  90.000000  \n",
       "mean   -86.366477  29.449963   0.666667  \n",
       "std     14.149518   2.141306   0.474045  \n",
       "min   -120.610829  28.561857   0.000000  \n",
       "25%    -80.603956  28.561857   0.000000  \n",
       "50%    -80.577366  28.561857   1.000000  \n",
       "75%    -80.577366  28.608058   1.000000  \n",
       "max    -80.577366  34.632093   1.000000  "
      ]
     },
     "execution_count": 34,
     "metadata": {},
     "output_type": "execute_result"
    }
   ],
   "source": [
    "df.describe()"
   ]
  },
  {
   "cell_type": "code",
   "execution_count": 35,
   "id": "cfdfa4ac",
   "metadata": {},
   "outputs": [
    {
     "name": "stdout",
     "output_type": "stream",
     "text": [
      "0\n"
     ]
    }
   ],
   "source": [
    "dup = df.duplicated()\n",
    "print((dup.sum()))"
   ]
  },
  {
   "cell_type": "markdown",
   "id": "3c9415ce",
   "metadata": {},
   "source": [
    "## Data Preprocessing - Numerical Features "
   ]
  },
  {
   "cell_type": "code",
   "execution_count": 36,
   "id": "8e03757e",
   "metadata": {},
   "outputs": [
    {
     "data": {
      "text/html": [
       "<div>\n",
       "<style scoped>\n",
       "    .dataframe tbody tr th:only-of-type {\n",
       "        vertical-align: middle;\n",
       "    }\n",
       "\n",
       "    .dataframe tbody tr th {\n",
       "        vertical-align: top;\n",
       "    }\n",
       "\n",
       "    .dataframe thead th {\n",
       "        text-align: right;\n",
       "    }\n",
       "</style>\n",
       "<table border=\"1\" class=\"dataframe\">\n",
       "  <thead>\n",
       "    <tr style=\"text-align: right;\">\n",
       "      <th></th>\n",
       "      <th>FlightNumber</th>\n",
       "      <th>Date</th>\n",
       "      <th>BoosterVersion</th>\n",
       "      <th>PayloadMass</th>\n",
       "      <th>Orbit</th>\n",
       "      <th>LaunchSite</th>\n",
       "      <th>Outcome</th>\n",
       "      <th>Flights</th>\n",
       "      <th>GridFins</th>\n",
       "      <th>Reused</th>\n",
       "      <th>Legs</th>\n",
       "      <th>LandingPad</th>\n",
       "      <th>Block</th>\n",
       "      <th>ReusedCount</th>\n",
       "      <th>Serial</th>\n",
       "      <th>Longitude</th>\n",
       "      <th>Latitude</th>\n",
       "      <th>Class</th>\n",
       "    </tr>\n",
       "  </thead>\n",
       "  <tbody>\n",
       "    <tr>\n",
       "      <th>30</th>\n",
       "      <td>31</td>\n",
       "      <td>2017-05-15</td>\n",
       "      <td>Falcon 9</td>\n",
       "      <td>6070.0</td>\n",
       "      <td>GTO</td>\n",
       "      <td>KSC LC 39A</td>\n",
       "      <td>None None</td>\n",
       "      <td>1</td>\n",
       "      <td>False</td>\n",
       "      <td>False</td>\n",
       "      <td>False</td>\n",
       "      <td>NaN</td>\n",
       "      <td>3.0</td>\n",
       "      <td>0</td>\n",
       "      <td>B1034</td>\n",
       "      <td>-80.603956</td>\n",
       "      <td>28.608058</td>\n",
       "      <td>0</td>\n",
       "    </tr>\n",
       "    <tr>\n",
       "      <th>27</th>\n",
       "      <td>28</td>\n",
       "      <td>2017-03-16</td>\n",
       "      <td>Falcon 9</td>\n",
       "      <td>5600.0</td>\n",
       "      <td>GTO</td>\n",
       "      <td>KSC LC 39A</td>\n",
       "      <td>None None</td>\n",
       "      <td>1</td>\n",
       "      <td>False</td>\n",
       "      <td>False</td>\n",
       "      <td>False</td>\n",
       "      <td>NaN</td>\n",
       "      <td>3.0</td>\n",
       "      <td>0</td>\n",
       "      <td>B1030</td>\n",
       "      <td>-80.603956</td>\n",
       "      <td>28.608058</td>\n",
       "      <td>0</td>\n",
       "    </tr>\n",
       "    <tr>\n",
       "      <th>44</th>\n",
       "      <td>45</td>\n",
       "      <td>2018-01-31</td>\n",
       "      <td>Falcon 9</td>\n",
       "      <td>4230.0</td>\n",
       "      <td>GTO</td>\n",
       "      <td>CCAFS SLC 40</td>\n",
       "      <td>True Ocean</td>\n",
       "      <td>2</td>\n",
       "      <td>True</td>\n",
       "      <td>True</td>\n",
       "      <td>True</td>\n",
       "      <td>NaN</td>\n",
       "      <td>3.0</td>\n",
       "      <td>1</td>\n",
       "      <td>B1032</td>\n",
       "      <td>-80.577366</td>\n",
       "      <td>28.561857</td>\n",
       "      <td>1</td>\n",
       "    </tr>\n",
       "    <tr>\n",
       "      <th>35</th>\n",
       "      <td>36</td>\n",
       "      <td>2017-08-14</td>\n",
       "      <td>Falcon 9</td>\n",
       "      <td>2910.0</td>\n",
       "      <td>ISS</td>\n",
       "      <td>KSC LC 39A</td>\n",
       "      <td>True RTLS</td>\n",
       "      <td>1</td>\n",
       "      <td>True</td>\n",
       "      <td>False</td>\n",
       "      <td>True</td>\n",
       "      <td>5e9e3032383ecb267a34e7c7</td>\n",
       "      <td>4.0</td>\n",
       "      <td>1</td>\n",
       "      <td>B1039</td>\n",
       "      <td>-80.603956</td>\n",
       "      <td>28.608058</td>\n",
       "      <td>1</td>\n",
       "    </tr>\n",
       "    <tr>\n",
       "      <th>57</th>\n",
       "      <td>58</td>\n",
       "      <td>2018-11-15</td>\n",
       "      <td>Falcon 9</td>\n",
       "      <td>3000.0</td>\n",
       "      <td>GTO</td>\n",
       "      <td>KSC LC 39A</td>\n",
       "      <td>True ASDS</td>\n",
       "      <td>2</td>\n",
       "      <td>True</td>\n",
       "      <td>True</td>\n",
       "      <td>True</td>\n",
       "      <td>5e9e3032383ecb6bb234e7ca</td>\n",
       "      <td>5.0</td>\n",
       "      <td>2</td>\n",
       "      <td>B1047</td>\n",
       "      <td>-80.603956</td>\n",
       "      <td>28.608058</td>\n",
       "      <td>1</td>\n",
       "    </tr>\n",
       "  </tbody>\n",
       "</table>\n",
       "</div>"
      ],
      "text/plain": [
       "    FlightNumber        Date BoosterVersion  PayloadMass Orbit    LaunchSite  \\\n",
       "30            31  2017-05-15       Falcon 9       6070.0   GTO    KSC LC 39A   \n",
       "27            28  2017-03-16       Falcon 9       5600.0   GTO    KSC LC 39A   \n",
       "44            45  2018-01-31       Falcon 9       4230.0   GTO  CCAFS SLC 40   \n",
       "35            36  2017-08-14       Falcon 9       2910.0   ISS    KSC LC 39A   \n",
       "57            58  2018-11-15       Falcon 9       3000.0   GTO    KSC LC 39A   \n",
       "\n",
       "       Outcome  Flights  GridFins  Reused   Legs                LandingPad  \\\n",
       "30   None None        1     False   False  False                       NaN   \n",
       "27   None None        1     False   False  False                       NaN   \n",
       "44  True Ocean        2      True    True   True                       NaN   \n",
       "35   True RTLS        1      True   False   True  5e9e3032383ecb267a34e7c7   \n",
       "57   True ASDS        2      True    True   True  5e9e3032383ecb6bb234e7ca   \n",
       "\n",
       "    Block  ReusedCount Serial  Longitude   Latitude  Class  \n",
       "30    3.0            0  B1034 -80.603956  28.608058      0  \n",
       "27    3.0            0  B1030 -80.603956  28.608058      0  \n",
       "44    3.0            1  B1032 -80.577366  28.561857      1  \n",
       "35    4.0            1  B1039 -80.603956  28.608058      1  \n",
       "57    5.0            2  B1047 -80.603956  28.608058      1  "
      ]
     },
     "execution_count": 36,
     "metadata": {},
     "output_type": "execute_result"
    }
   ],
   "source": [
    "spacex_train.head()"
   ]
  },
  {
   "cell_type": "code",
   "execution_count": 37,
   "id": "059d7b66",
   "metadata": {},
   "outputs": [
    {
     "data": {
      "text/plain": [
       "(90, 8)"
      ]
     },
     "execution_count": 37,
     "metadata": {},
     "output_type": "execute_result"
    }
   ],
   "source": [
    "num = df.select_dtypes(include=['int64','float64'])\n",
    "num.head()\n",
    "num.shape"
   ]
  },
  {
   "cell_type": "code",
   "execution_count": 38,
   "id": "aea4d40a",
   "metadata": {},
   "outputs": [
    {
     "data": {
      "text/html": [
       "<div>\n",
       "<style scoped>\n",
       "    .dataframe tbody tr th:only-of-type {\n",
       "        vertical-align: middle;\n",
       "    }\n",
       "\n",
       "    .dataframe tbody tr th {\n",
       "        vertical-align: top;\n",
       "    }\n",
       "\n",
       "    .dataframe thead th {\n",
       "        text-align: right;\n",
       "    }\n",
       "</style>\n",
       "<table border=\"1\" class=\"dataframe\">\n",
       "  <thead>\n",
       "    <tr style=\"text-align: right;\">\n",
       "      <th></th>\n",
       "      <th>FlightNumber</th>\n",
       "      <th>PayloadMass</th>\n",
       "      <th>Flights</th>\n",
       "      <th>Block</th>\n",
       "      <th>ReusedCount</th>\n",
       "    </tr>\n",
       "  </thead>\n",
       "  <tbody>\n",
       "    <tr>\n",
       "      <th>0</th>\n",
       "      <td>1</td>\n",
       "      <td>6104.959412</td>\n",
       "      <td>1</td>\n",
       "      <td>1.0</td>\n",
       "      <td>0</td>\n",
       "    </tr>\n",
       "    <tr>\n",
       "      <th>1</th>\n",
       "      <td>2</td>\n",
       "      <td>525.000000</td>\n",
       "      <td>1</td>\n",
       "      <td>1.0</td>\n",
       "      <td>0</td>\n",
       "    </tr>\n",
       "    <tr>\n",
       "      <th>2</th>\n",
       "      <td>3</td>\n",
       "      <td>677.000000</td>\n",
       "      <td>1</td>\n",
       "      <td>1.0</td>\n",
       "      <td>0</td>\n",
       "    </tr>\n",
       "    <tr>\n",
       "      <th>3</th>\n",
       "      <td>4</td>\n",
       "      <td>500.000000</td>\n",
       "      <td>1</td>\n",
       "      <td>1.0</td>\n",
       "      <td>0</td>\n",
       "    </tr>\n",
       "    <tr>\n",
       "      <th>4</th>\n",
       "      <td>5</td>\n",
       "      <td>3170.000000</td>\n",
       "      <td>1</td>\n",
       "      <td>1.0</td>\n",
       "      <td>0</td>\n",
       "    </tr>\n",
       "  </tbody>\n",
       "</table>\n",
       "</div>"
      ],
      "text/plain": [
       "   FlightNumber  PayloadMass  Flights  Block  ReusedCount\n",
       "0             1  6104.959412        1    1.0            0\n",
       "1             2   525.000000        1    1.0            0\n",
       "2             3   677.000000        1    1.0            0\n",
       "3             4   500.000000        1    1.0            0\n",
       "4             5  3170.000000        1    1.0            0"
      ]
     },
     "execution_count": 38,
     "metadata": {},
     "output_type": "execute_result"
    }
   ],
   "source": [
    "# Longitude and Latitude are simply the LaunchSite's location which are not useful for future works\n",
    "# Hence these 2 features are dropped from numerical data list\n",
    "num.drop([\"Longitude\",\"Latitude\",\"Class\"], axis = 1, inplace = True)\n",
    "num.head(5)"
   ]
  },
  {
   "cell_type": "code",
   "execution_count": 39,
   "id": "71372639",
   "metadata": {},
   "outputs": [
    {
     "data": {
      "text/plain": [
       "FlightNumber    0\n",
       "PayloadMass     0\n",
       "Flights         0\n",
       "Block           0\n",
       "ReusedCount     0\n",
       "dtype: int64"
      ]
     },
     "execution_count": 39,
     "metadata": {},
     "output_type": "execute_result"
    }
   ],
   "source": [
    "#Check missing value in numerical data\n",
    "num.isnull().sum()"
   ]
  },
  {
   "cell_type": "markdown",
   "id": "203c9672",
   "metadata": {},
   "source": [
    "Standardization\n",
    " Make the mean of the dataset as 0 and the standard deviation equivalent to 1\n",
    " To ensure data to have same scale in terms of Feature to avoid bias in the outcome\n",
    "\n",
    "#for x in num.columns:    \n",
    "    # fitting column\n",
    "    scale = StandardScaler().fit(num[[x]])\n",
    "    # transforming column\n",
    "    num[x] = scale.transform(num[[x]])\n",
    "#print('Mean:\\n',num.mean (axis=0))\n",
    "#print('\\nStd Deviation:\\n',num.std (axis=0))"
   ]
  },
  {
   "cell_type": "markdown",
   "id": "4d953ec8",
   "metadata": {},
   "source": [
    "Check outliers\n",
    "num.boxplot(figsize=(15,15))\n",
    "plt.figure(figsize =(12,12))\n",
    "sns.boxplot(data=num['PayloadMass'])\n",
    "\n",
    "for column in num:\n",
    "    plt.figure()\n",
    "    num.boxplot([column])"
   ]
  },
  {
   "cell_type": "markdown",
   "id": "62805ec8",
   "metadata": {},
   "source": [
    "Based on the boxplot above, there are some outliers in Flights feature."
   ]
  },
  {
   "cell_type": "code",
   "execution_count": 40,
   "id": "39c0c05f",
   "metadata": {},
   "outputs": [
    {
     "data": {
      "text/html": [
       "<div>\n",
       "<style scoped>\n",
       "    .dataframe tbody tr th:only-of-type {\n",
       "        vertical-align: middle;\n",
       "    }\n",
       "\n",
       "    .dataframe tbody tr th {\n",
       "        vertical-align: top;\n",
       "    }\n",
       "\n",
       "    .dataframe thead th {\n",
       "        text-align: right;\n",
       "    }\n",
       "</style>\n",
       "<table border=\"1\" class=\"dataframe\">\n",
       "  <thead>\n",
       "    <tr style=\"text-align: right;\">\n",
       "      <th></th>\n",
       "      <th>FlightNumber</th>\n",
       "      <th>PayloadMass</th>\n",
       "      <th>Flights</th>\n",
       "      <th>Block</th>\n",
       "      <th>ReusedCount</th>\n",
       "    </tr>\n",
       "  </thead>\n",
       "  <tbody>\n",
       "    <tr>\n",
       "      <th>count</th>\n",
       "      <td>9.000000e+01</td>\n",
       "      <td>9.000000e+01</td>\n",
       "      <td>9.000000e+01</td>\n",
       "      <td>9.000000e+01</td>\n",
       "      <td>9.000000e+01</td>\n",
       "    </tr>\n",
       "    <tr>\n",
       "      <th>mean</th>\n",
       "      <td>8.881784e-17</td>\n",
       "      <td>-2.652199e-16</td>\n",
       "      <td>-6.784696e-16</td>\n",
       "      <td>1.208910e-16</td>\n",
       "      <td>4.280527e-16</td>\n",
       "    </tr>\n",
       "    <tr>\n",
       "      <th>std</th>\n",
       "      <td>1.000000e+00</td>\n",
       "      <td>1.000000e+00</td>\n",
       "      <td>1.000000e+00</td>\n",
       "      <td>1.000000e+00</td>\n",
       "      <td>1.000000e+00</td>\n",
       "    </tr>\n",
       "    <tr>\n",
       "      <th>min</th>\n",
       "      <td>-1.703369e+00</td>\n",
       "      <td>-1.225849e+00</td>\n",
       "      <td>-6.502698e-01</td>\n",
       "      <td>-1.567115e+00</td>\n",
       "      <td>-9.680173e-01</td>\n",
       "    </tr>\n",
       "    <tr>\n",
       "      <th>25%</th>\n",
       "      <td>-8.516844e-01</td>\n",
       "      <td>-7.655933e-01</td>\n",
       "      <td>-6.502698e-01</td>\n",
       "      <td>-9.402691e-01</td>\n",
       "      <td>-9.680173e-01</td>\n",
       "    </tr>\n",
       "    <tr>\n",
       "      <th>50%</th>\n",
       "      <td>0.000000e+00</td>\n",
       "      <td>-2.989473e-01</td>\n",
       "      <td>-6.502698e-01</td>\n",
       "      <td>3.134230e-01</td>\n",
       "      <td>-3.833089e-01</td>\n",
       "    </tr>\n",
       "    <tr>\n",
       "      <th>75%</th>\n",
       "      <td>8.516844e-01</td>\n",
       "      <td>5.980803e-01</td>\n",
       "      <td>1.740159e-01</td>\n",
       "      <td>9.402691e-01</td>\n",
       "      <td>7.861080e-01</td>\n",
       "    </tr>\n",
       "    <tr>\n",
       "      <th>max</th>\n",
       "      <td>1.703369e+00</td>\n",
       "      <td>2.022514e+00</td>\n",
       "      <td>3.471159e+00</td>\n",
       "      <td>9.402691e-01</td>\n",
       "      <td>1.955525e+00</td>\n",
       "    </tr>\n",
       "  </tbody>\n",
       "</table>\n",
       "</div>"
      ],
      "text/plain": [
       "       FlightNumber   PayloadMass       Flights         Block   ReusedCount\n",
       "count  9.000000e+01  9.000000e+01  9.000000e+01  9.000000e+01  9.000000e+01\n",
       "mean   8.881784e-17 -2.652199e-16 -6.784696e-16  1.208910e-16  4.280527e-16\n",
       "std    1.000000e+00  1.000000e+00  1.000000e+00  1.000000e+00  1.000000e+00\n",
       "min   -1.703369e+00 -1.225849e+00 -6.502698e-01 -1.567115e+00 -9.680173e-01\n",
       "25%   -8.516844e-01 -7.655933e-01 -6.502698e-01 -9.402691e-01 -9.680173e-01\n",
       "50%    0.000000e+00 -2.989473e-01 -6.502698e-01  3.134230e-01 -3.833089e-01\n",
       "75%    8.516844e-01  5.980803e-01  1.740159e-01  9.402691e-01  7.861080e-01\n",
       "max    1.703369e+00  2.022514e+00  3.471159e+00  9.402691e-01  1.955525e+00"
      ]
     },
     "execution_count": 40,
     "metadata": {},
     "output_type": "execute_result"
    }
   ],
   "source": [
    "Z = (num-num.mean())/num.std()\n",
    "Z.describe()"
   ]
  },
  {
   "cell_type": "code",
   "execution_count": 41,
   "id": "5bfe173e",
   "metadata": {},
   "outputs": [
    {
     "name": "stdout",
     "output_type": "stream",
     "text": [
      "0      True\n",
      "1      True\n",
      "2      True\n",
      "3      True\n",
      "4      True\n",
      "      ...  \n",
      "85     True\n",
      "86     True\n",
      "87    False\n",
      "88     True\n",
      "89     True\n",
      "Length: 90, dtype: bool\n"
     ]
    }
   ],
   "source": [
    "z_scores = stats.zscore(num)\n",
    "abs_z_scores = np.abs(z_scores)\n",
    "filtered_ent = (abs_z_scores <= 3).all(axis=1)\n",
    "print(filtered_ent)\n",
    "# select the z score <= than 3 and > -3\n",
    "\n",
    "df = df[filtered_ent]"
   ]
  },
  {
   "cell_type": "code",
   "execution_count": 42,
   "id": "8857eddb",
   "metadata": {},
   "outputs": [],
   "source": [
    "year = []\n",
    "month = []\n",
    "for i in df[\"Date\"]:\n",
    "    year.append(i.split(\"-\")[0])\n",
    "    month.append(i.split(\"-\")[1])\n",
    "df[\"Year\"] = np.array(year,dtype='int64')\n",
    "df[\"Month\"] = np.array(month,dtype='int64')"
   ]
  },
  {
   "cell_type": "code",
   "execution_count": 43,
   "id": "43902950",
   "metadata": {},
   "outputs": [
    {
     "name": "stdout",
     "output_type": "stream",
     "text": [
      "Row no. after discarding outliers = 88\n"
     ]
    }
   ],
   "source": [
    "num_f = df[['Year','Month','FlightNumber','PayloadMass','Flights','Block','ReusedCount']]\n",
    "print('Row no. after discarding outliers = %d' % num_f.shape[0])"
   ]
  },
  {
   "cell_type": "markdown",
   "id": "bf1b7026",
   "metadata": {},
   "source": [
    "#We use IQR instead of z-score to do detect outlier(s)\n",
    "#sorted(num)\n",
    "#Q1=num.quantile(0.25)\n",
    "#Q3=num.quantile(0.75)\n",
    "#IQR=(Q3-Q1)\n",
    "#print(IQR)\n",
    "\n",
    " Give an output with some true and false values \n",
    "#False = valid and True = outlier(s)\n",
    "#print([num < (Q1 - 1.5 * IQR) | (num > (Q3 + 1.5 * IQR))])\n",
    "\n",
    "#Remove the outlier from the data set\n",
    "#num_f = num[~((num < (Q1 - 1.5 * IQR)) |(num > (Q3 + 1.5 * IQR))).any(axis=1)]\n",
    "#num_f.shape"
   ]
  },
  {
   "cell_type": "code",
   "execution_count": 44,
   "id": "c2402e09",
   "metadata": {},
   "outputs": [
    {
     "data": {
      "text/plain": [
       "(88, 7)"
      ]
     },
     "execution_count": 44,
     "metadata": {},
     "output_type": "execute_result"
    }
   ],
   "source": [
    "num_f.shape"
   ]
  },
  {
   "cell_type": "code",
   "execution_count": 45,
   "id": "392195cc",
   "metadata": {},
   "outputs": [
    {
     "name": "stdout",
     "output_type": "stream",
     "text": [
      "Mean:\n",
      " [-2.87244975e-14 -1.00929366e-16  7.06505561e-17  1.21115239e-16\n",
      "  2.52323415e-17  8.07434927e-17 -5.04646829e-18]\n",
      "\n",
      "Std Deviation:\n",
      " [1. 1. 1. 1. 1. 1. 1.]\n"
     ]
    },
    {
     "data": {
      "text/html": [
       "<div>\n",
       "<style scoped>\n",
       "    .dataframe tbody tr th:only-of-type {\n",
       "        vertical-align: middle;\n",
       "    }\n",
       "\n",
       "    .dataframe tbody tr th {\n",
       "        vertical-align: top;\n",
       "    }\n",
       "\n",
       "    .dataframe thead th {\n",
       "        text-align: right;\n",
       "    }\n",
       "</style>\n",
       "<table border=\"1\" class=\"dataframe\">\n",
       "  <thead>\n",
       "    <tr style=\"text-align: right;\">\n",
       "      <th></th>\n",
       "      <th>Year</th>\n",
       "      <th>Month</th>\n",
       "      <th>FlightNumber</th>\n",
       "      <th>PayloadMass</th>\n",
       "      <th>Flights</th>\n",
       "      <th>Block</th>\n",
       "      <th>ReusedCount</th>\n",
       "    </tr>\n",
       "  </thead>\n",
       "  <tbody>\n",
       "    <tr>\n",
       "      <th>0</th>\n",
       "      <td>-3.382197</td>\n",
       "      <td>-0.077417</td>\n",
       "      <td>-1.706656</td>\n",
       "      <td>0.046907</td>\n",
       "      <td>-0.668155</td>\n",
       "      <td>-1.552895</td>\n",
       "      <td>-0.961598</td>\n",
       "    </tr>\n",
       "    <tr>\n",
       "      <th>1</th>\n",
       "      <td>-2.456432</td>\n",
       "      <td>-0.373623</td>\n",
       "      <td>-1.667494</td>\n",
       "      <td>-1.192099</td>\n",
       "      <td>-0.668155</td>\n",
       "      <td>-1.552895</td>\n",
       "      <td>-0.961598</td>\n",
       "    </tr>\n",
       "    <tr>\n",
       "      <th>2</th>\n",
       "      <td>-1.993550</td>\n",
       "      <td>-0.966034</td>\n",
       "      <td>-1.628332</td>\n",
       "      <td>-1.158348</td>\n",
       "      <td>-0.668155</td>\n",
       "      <td>-1.552895</td>\n",
       "      <td>-0.961598</td>\n",
       "    </tr>\n",
       "    <tr>\n",
       "      <th>3</th>\n",
       "      <td>-1.993550</td>\n",
       "      <td>0.811200</td>\n",
       "      <td>-1.589170</td>\n",
       "      <td>-1.197651</td>\n",
       "      <td>-0.668155</td>\n",
       "      <td>-1.552895</td>\n",
       "      <td>-0.961598</td>\n",
       "    </tr>\n",
       "    <tr>\n",
       "      <th>4</th>\n",
       "      <td>-1.993550</td>\n",
       "      <td>1.699816</td>\n",
       "      <td>-1.550008</td>\n",
       "      <td>-0.604788</td>\n",
       "      <td>-0.668155</td>\n",
       "      <td>-1.552895</td>\n",
       "      <td>-0.961598</td>\n",
       "    </tr>\n",
       "    <tr>\n",
       "      <th>...</th>\n",
       "      <td>...</td>\n",
       "      <td>...</td>\n",
       "      <td>...</td>\n",
       "      <td>...</td>\n",
       "      <td>...</td>\n",
       "      <td>...</td>\n",
       "      <td>...</td>\n",
       "    </tr>\n",
       "    <tr>\n",
       "      <th>83</th>\n",
       "      <td>1.246626</td>\n",
       "      <td>0.514994</td>\n",
       "      <td>1.582940</td>\n",
       "      <td>-0.953400</td>\n",
       "      <td>2.223531</td>\n",
       "      <td>0.966086</td>\n",
       "      <td>0.864747</td>\n",
       "    </tr>\n",
       "    <tr>\n",
       "      <th>84</th>\n",
       "      <td>1.246626</td>\n",
       "      <td>0.811200</td>\n",
       "      <td>1.622102</td>\n",
       "      <td>2.110833</td>\n",
       "      <td>0.295741</td>\n",
       "      <td>0.966086</td>\n",
       "      <td>0.255965</td>\n",
       "    </tr>\n",
       "    <tr>\n",
       "      <th>85</th>\n",
       "      <td>1.246626</td>\n",
       "      <td>1.107405</td>\n",
       "      <td>1.661263</td>\n",
       "      <td>2.110833</td>\n",
       "      <td>1.259636</td>\n",
       "      <td>0.966086</td>\n",
       "      <td>0.255965</td>\n",
       "    </tr>\n",
       "    <tr>\n",
       "      <th>86</th>\n",
       "      <td>1.246626</td>\n",
       "      <td>1.107405</td>\n",
       "      <td>1.739587</td>\n",
       "      <td>2.110833</td>\n",
       "      <td>1.259636</td>\n",
       "      <td>0.966086</td>\n",
       "      <td>0.255965</td>\n",
       "    </tr>\n",
       "    <tr>\n",
       "      <th>87</th>\n",
       "      <td>1.246626</td>\n",
       "      <td>1.403611</td>\n",
       "      <td>1.778749</td>\n",
       "      <td>-0.491323</td>\n",
       "      <td>-0.668155</td>\n",
       "      <td>0.966086</td>\n",
       "      <td>-0.961598</td>\n",
       "    </tr>\n",
       "  </tbody>\n",
       "</table>\n",
       "<p>88 rows × 7 columns</p>\n",
       "</div>"
      ],
      "text/plain": [
       "        Year     Month  FlightNumber  PayloadMass   Flights     Block  \\\n",
       "0  -3.382197 -0.077417     -1.706656     0.046907 -0.668155 -1.552895   \n",
       "1  -2.456432 -0.373623     -1.667494    -1.192099 -0.668155 -1.552895   \n",
       "2  -1.993550 -0.966034     -1.628332    -1.158348 -0.668155 -1.552895   \n",
       "3  -1.993550  0.811200     -1.589170    -1.197651 -0.668155 -1.552895   \n",
       "4  -1.993550  1.699816     -1.550008    -0.604788 -0.668155 -1.552895   \n",
       "..       ...       ...           ...          ...       ...       ...   \n",
       "83  1.246626  0.514994      1.582940    -0.953400  2.223531  0.966086   \n",
       "84  1.246626  0.811200      1.622102     2.110833  0.295741  0.966086   \n",
       "85  1.246626  1.107405      1.661263     2.110833  1.259636  0.966086   \n",
       "86  1.246626  1.107405      1.739587     2.110833  1.259636  0.966086   \n",
       "87  1.246626  1.403611      1.778749    -0.491323 -0.668155  0.966086   \n",
       "\n",
       "    ReusedCount  \n",
       "0     -0.961598  \n",
       "1     -0.961598  \n",
       "2     -0.961598  \n",
       "3     -0.961598  \n",
       "4     -0.961598  \n",
       "..          ...  \n",
       "83     0.864747  \n",
       "84     0.255965  \n",
       "85     0.255965  \n",
       "86     0.255965  \n",
       "87    -0.961598  \n",
       "\n",
       "[88 rows x 7 columns]"
      ]
     },
     "execution_count": 45,
     "metadata": {},
     "output_type": "execute_result"
    }
   ],
   "source": [
    "# Standardization\n",
    "# Make the mean of the dataset as 0 and the standard deviation equivalent to 1\n",
    "# To ensure data to have same scale in terms of Feature to avoid bias in the outcome   \n",
    "    # fitting column\n",
    "scale = StandardScaler()\n",
    "num_f=scale.fit_transform(num_f)\n",
    "# transforming column\n",
    "print('Mean:\\n',num_f.mean (axis=0))\n",
    "print('\\nStd Deviation:\\n',num_f.std (axis=0))\n",
    "num_f = pd.DataFrame(num_f)\n",
    "num_f.columns = ['Year','Month','FlightNumber','PayloadMass','Flights','Block','ReusedCount']\n",
    "num_f"
   ]
  },
  {
   "cell_type": "markdown",
   "id": "ef3fd0cf",
   "metadata": {},
   "source": [
    "#Data splitting into training set and testing set \n",
    "#num_train, num_test = train_test_split(num_fin, test_size=0.2, random_state=2)\n",
    "#print(\"Original data shape: {}\".format(num_fin.shape))\n",
    "#print(\"Splitted training data shape: {}\".format(num_train.shape))\n",
    "#print(\"Splitted testing data shape: {}\".format(num_test.shape))"
   ]
  },
  {
   "cell_type": "markdown",
   "id": "69eb201f",
   "metadata": {},
   "source": [
    "## Data Preprocessing - Categorical Features"
   ]
  },
  {
   "cell_type": "code",
   "execution_count": 46,
   "id": "7028b136",
   "metadata": {},
   "outputs": [
    {
     "data": {
      "text/html": [
       "<div>\n",
       "<style scoped>\n",
       "    .dataframe tbody tr th:only-of-type {\n",
       "        vertical-align: middle;\n",
       "    }\n",
       "\n",
       "    .dataframe tbody tr th {\n",
       "        vertical-align: top;\n",
       "    }\n",
       "\n",
       "    .dataframe thead th {\n",
       "        text-align: right;\n",
       "    }\n",
       "</style>\n",
       "<table border=\"1\" class=\"dataframe\">\n",
       "  <thead>\n",
       "    <tr style=\"text-align: right;\">\n",
       "      <th></th>\n",
       "      <th>FlightNumber</th>\n",
       "      <th>Date</th>\n",
       "      <th>BoosterVersion</th>\n",
       "      <th>PayloadMass</th>\n",
       "      <th>Orbit</th>\n",
       "      <th>LaunchSite</th>\n",
       "      <th>Outcome</th>\n",
       "      <th>Flights</th>\n",
       "      <th>GridFins</th>\n",
       "      <th>Reused</th>\n",
       "      <th>Legs</th>\n",
       "      <th>LandingPad</th>\n",
       "      <th>Block</th>\n",
       "      <th>ReusedCount</th>\n",
       "      <th>Serial</th>\n",
       "      <th>Longitude</th>\n",
       "      <th>Latitude</th>\n",
       "      <th>Class</th>\n",
       "      <th>Year</th>\n",
       "      <th>Month</th>\n",
       "    </tr>\n",
       "  </thead>\n",
       "  <tbody>\n",
       "    <tr>\n",
       "      <th>0</th>\n",
       "      <td>1</td>\n",
       "      <td>2010-06-04</td>\n",
       "      <td>Falcon 9</td>\n",
       "      <td>6104.959412</td>\n",
       "      <td>LEO</td>\n",
       "      <td>CCAFS SLC 40</td>\n",
       "      <td>None None</td>\n",
       "      <td>1</td>\n",
       "      <td>False</td>\n",
       "      <td>False</td>\n",
       "      <td>False</td>\n",
       "      <td>NaN</td>\n",
       "      <td>1.0</td>\n",
       "      <td>0</td>\n",
       "      <td>B0003</td>\n",
       "      <td>-80.577366</td>\n",
       "      <td>28.561857</td>\n",
       "      <td>0</td>\n",
       "      <td>2010</td>\n",
       "      <td>6</td>\n",
       "    </tr>\n",
       "    <tr>\n",
       "      <th>1</th>\n",
       "      <td>2</td>\n",
       "      <td>2012-05-22</td>\n",
       "      <td>Falcon 9</td>\n",
       "      <td>525.000000</td>\n",
       "      <td>LEO</td>\n",
       "      <td>CCAFS SLC 40</td>\n",
       "      <td>None None</td>\n",
       "      <td>1</td>\n",
       "      <td>False</td>\n",
       "      <td>False</td>\n",
       "      <td>False</td>\n",
       "      <td>NaN</td>\n",
       "      <td>1.0</td>\n",
       "      <td>0</td>\n",
       "      <td>B0005</td>\n",
       "      <td>-80.577366</td>\n",
       "      <td>28.561857</td>\n",
       "      <td>0</td>\n",
       "      <td>2012</td>\n",
       "      <td>5</td>\n",
       "    </tr>\n",
       "    <tr>\n",
       "      <th>2</th>\n",
       "      <td>3</td>\n",
       "      <td>2013-03-01</td>\n",
       "      <td>Falcon 9</td>\n",
       "      <td>677.000000</td>\n",
       "      <td>ISS</td>\n",
       "      <td>CCAFS SLC 40</td>\n",
       "      <td>None None</td>\n",
       "      <td>1</td>\n",
       "      <td>False</td>\n",
       "      <td>False</td>\n",
       "      <td>False</td>\n",
       "      <td>NaN</td>\n",
       "      <td>1.0</td>\n",
       "      <td>0</td>\n",
       "      <td>B0007</td>\n",
       "      <td>-80.577366</td>\n",
       "      <td>28.561857</td>\n",
       "      <td>0</td>\n",
       "      <td>2013</td>\n",
       "      <td>3</td>\n",
       "    </tr>\n",
       "    <tr>\n",
       "      <th>3</th>\n",
       "      <td>4</td>\n",
       "      <td>2013-09-29</td>\n",
       "      <td>Falcon 9</td>\n",
       "      <td>500.000000</td>\n",
       "      <td>PO</td>\n",
       "      <td>VAFB SLC 4E</td>\n",
       "      <td>False Ocean</td>\n",
       "      <td>1</td>\n",
       "      <td>False</td>\n",
       "      <td>False</td>\n",
       "      <td>False</td>\n",
       "      <td>NaN</td>\n",
       "      <td>1.0</td>\n",
       "      <td>0</td>\n",
       "      <td>B1003</td>\n",
       "      <td>-120.610829</td>\n",
       "      <td>34.632093</td>\n",
       "      <td>0</td>\n",
       "      <td>2013</td>\n",
       "      <td>9</td>\n",
       "    </tr>\n",
       "    <tr>\n",
       "      <th>4</th>\n",
       "      <td>5</td>\n",
       "      <td>2013-12-03</td>\n",
       "      <td>Falcon 9</td>\n",
       "      <td>3170.000000</td>\n",
       "      <td>GTO</td>\n",
       "      <td>CCAFS SLC 40</td>\n",
       "      <td>None None</td>\n",
       "      <td>1</td>\n",
       "      <td>False</td>\n",
       "      <td>False</td>\n",
       "      <td>False</td>\n",
       "      <td>NaN</td>\n",
       "      <td>1.0</td>\n",
       "      <td>0</td>\n",
       "      <td>B1004</td>\n",
       "      <td>-80.577366</td>\n",
       "      <td>28.561857</td>\n",
       "      <td>0</td>\n",
       "      <td>2013</td>\n",
       "      <td>12</td>\n",
       "    </tr>\n",
       "  </tbody>\n",
       "</table>\n",
       "</div>"
      ],
      "text/plain": [
       "   FlightNumber        Date BoosterVersion  PayloadMass Orbit    LaunchSite  \\\n",
       "0             1  2010-06-04       Falcon 9  6104.959412   LEO  CCAFS SLC 40   \n",
       "1             2  2012-05-22       Falcon 9   525.000000   LEO  CCAFS SLC 40   \n",
       "2             3  2013-03-01       Falcon 9   677.000000   ISS  CCAFS SLC 40   \n",
       "3             4  2013-09-29       Falcon 9   500.000000    PO   VAFB SLC 4E   \n",
       "4             5  2013-12-03       Falcon 9  3170.000000   GTO  CCAFS SLC 40   \n",
       "\n",
       "       Outcome  Flights  GridFins  Reused   Legs LandingPad  Block  \\\n",
       "0    None None        1     False   False  False        NaN    1.0   \n",
       "1    None None        1     False   False  False        NaN    1.0   \n",
       "2    None None        1     False   False  False        NaN    1.0   \n",
       "3  False Ocean        1     False   False  False        NaN    1.0   \n",
       "4    None None        1     False   False  False        NaN    1.0   \n",
       "\n",
       "   ReusedCount Serial   Longitude   Latitude  Class  Year  Month  \n",
       "0            0  B0003  -80.577366  28.561857      0  2010      6  \n",
       "1            0  B0005  -80.577366  28.561857      0  2012      5  \n",
       "2            0  B0007  -80.577366  28.561857      0  2013      3  \n",
       "3            0  B1003 -120.610829  34.632093      0  2013      9  \n",
       "4            0  B1004  -80.577366  28.561857      0  2013     12  "
      ]
     },
     "execution_count": 46,
     "metadata": {},
     "output_type": "execute_result"
    }
   ],
   "source": [
    "df.head()"
   ]
  },
  {
   "cell_type": "code",
   "execution_count": 47,
   "id": "bfb0c4d3",
   "metadata": {},
   "outputs": [
    {
     "data": {
      "text/plain": [
       "(88, 10)"
      ]
     },
     "execution_count": 47,
     "metadata": {},
     "output_type": "execute_result"
    }
   ],
   "source": [
    "cat = df.select_dtypes(include=['object','boolean'])\n",
    "cat.head()\n",
    "cat.shape"
   ]
  },
  {
   "cell_type": "code",
   "execution_count": 48,
   "id": "e3039d93",
   "metadata": {},
   "outputs": [
    {
     "data": {
      "text/html": [
       "<div>\n",
       "<style scoped>\n",
       "    .dataframe tbody tr th:only-of-type {\n",
       "        vertical-align: middle;\n",
       "    }\n",
       "\n",
       "    .dataframe tbody tr th {\n",
       "        vertical-align: top;\n",
       "    }\n",
       "\n",
       "    .dataframe thead th {\n",
       "        text-align: right;\n",
       "    }\n",
       "</style>\n",
       "<table border=\"1\" class=\"dataframe\">\n",
       "  <thead>\n",
       "    <tr style=\"text-align: right;\">\n",
       "      <th></th>\n",
       "      <th>Date</th>\n",
       "      <th>BoosterVersion</th>\n",
       "      <th>Orbit</th>\n",
       "      <th>LaunchSite</th>\n",
       "      <th>Outcome</th>\n",
       "      <th>GridFins</th>\n",
       "      <th>Reused</th>\n",
       "      <th>Legs</th>\n",
       "      <th>LandingPad</th>\n",
       "      <th>Serial</th>\n",
       "    </tr>\n",
       "  </thead>\n",
       "  <tbody>\n",
       "    <tr>\n",
       "      <th>0</th>\n",
       "      <td>2010-06-04</td>\n",
       "      <td>Falcon 9</td>\n",
       "      <td>LEO</td>\n",
       "      <td>CCAFS SLC 40</td>\n",
       "      <td>None None</td>\n",
       "      <td>False</td>\n",
       "      <td>False</td>\n",
       "      <td>False</td>\n",
       "      <td>NaN</td>\n",
       "      <td>B0003</td>\n",
       "    </tr>\n",
       "    <tr>\n",
       "      <th>1</th>\n",
       "      <td>2012-05-22</td>\n",
       "      <td>Falcon 9</td>\n",
       "      <td>LEO</td>\n",
       "      <td>CCAFS SLC 40</td>\n",
       "      <td>None None</td>\n",
       "      <td>False</td>\n",
       "      <td>False</td>\n",
       "      <td>False</td>\n",
       "      <td>NaN</td>\n",
       "      <td>B0005</td>\n",
       "    </tr>\n",
       "    <tr>\n",
       "      <th>2</th>\n",
       "      <td>2013-03-01</td>\n",
       "      <td>Falcon 9</td>\n",
       "      <td>ISS</td>\n",
       "      <td>CCAFS SLC 40</td>\n",
       "      <td>None None</td>\n",
       "      <td>False</td>\n",
       "      <td>False</td>\n",
       "      <td>False</td>\n",
       "      <td>NaN</td>\n",
       "      <td>B0007</td>\n",
       "    </tr>\n",
       "    <tr>\n",
       "      <th>3</th>\n",
       "      <td>2013-09-29</td>\n",
       "      <td>Falcon 9</td>\n",
       "      <td>PO</td>\n",
       "      <td>VAFB SLC 4E</td>\n",
       "      <td>False Ocean</td>\n",
       "      <td>False</td>\n",
       "      <td>False</td>\n",
       "      <td>False</td>\n",
       "      <td>NaN</td>\n",
       "      <td>B1003</td>\n",
       "    </tr>\n",
       "    <tr>\n",
       "      <th>4</th>\n",
       "      <td>2013-12-03</td>\n",
       "      <td>Falcon 9</td>\n",
       "      <td>GTO</td>\n",
       "      <td>CCAFS SLC 40</td>\n",
       "      <td>None None</td>\n",
       "      <td>False</td>\n",
       "      <td>False</td>\n",
       "      <td>False</td>\n",
       "      <td>NaN</td>\n",
       "      <td>B1004</td>\n",
       "    </tr>\n",
       "  </tbody>\n",
       "</table>\n",
       "</div>"
      ],
      "text/plain": [
       "         Date BoosterVersion Orbit    LaunchSite      Outcome  GridFins  \\\n",
       "0  2010-06-04       Falcon 9   LEO  CCAFS SLC 40    None None     False   \n",
       "1  2012-05-22       Falcon 9   LEO  CCAFS SLC 40    None None     False   \n",
       "2  2013-03-01       Falcon 9   ISS  CCAFS SLC 40    None None     False   \n",
       "3  2013-09-29       Falcon 9    PO   VAFB SLC 4E  False Ocean     False   \n",
       "4  2013-12-03       Falcon 9   GTO  CCAFS SLC 40    None None     False   \n",
       "\n",
       "   Reused   Legs LandingPad Serial  \n",
       "0   False  False        NaN  B0003  \n",
       "1   False  False        NaN  B0005  \n",
       "2   False  False        NaN  B0007  \n",
       "3   False  False        NaN  B1003  \n",
       "4   False  False        NaN  B1004  "
      ]
     },
     "execution_count": 48,
     "metadata": {},
     "output_type": "execute_result"
    }
   ],
   "source": [
    "cat.head()"
   ]
  },
  {
   "cell_type": "markdown",
   "id": "e9e5e27a",
   "metadata": {},
   "source": [
    "#Since Class counted as Categorical Feature here we change it to boolean\n",
    "cat[\"Class\"] = cat[\"Class\"].astype(\"bool\")\n",
    "cat.head()"
   ]
  },
  {
   "cell_type": "code",
   "execution_count": 49,
   "id": "4d4b67f0",
   "metadata": {},
   "outputs": [
    {
     "data": {
      "text/html": [
       "<div>\n",
       "<style scoped>\n",
       "    .dataframe tbody tr th:only-of-type {\n",
       "        vertical-align: middle;\n",
       "    }\n",
       "\n",
       "    .dataframe tbody tr th {\n",
       "        vertical-align: top;\n",
       "    }\n",
       "\n",
       "    .dataframe thead th {\n",
       "        text-align: right;\n",
       "    }\n",
       "</style>\n",
       "<table border=\"1\" class=\"dataframe\">\n",
       "  <thead>\n",
       "    <tr style=\"text-align: right;\">\n",
       "      <th></th>\n",
       "      <th>Orbit</th>\n",
       "      <th>LaunchSite</th>\n",
       "      <th>GridFins</th>\n",
       "      <th>Reused</th>\n",
       "      <th>Legs</th>\n",
       "      <th>LandingPad</th>\n",
       "    </tr>\n",
       "  </thead>\n",
       "  <tbody>\n",
       "    <tr>\n",
       "      <th>0</th>\n",
       "      <td>LEO</td>\n",
       "      <td>CCAFS SLC 40</td>\n",
       "      <td>False</td>\n",
       "      <td>False</td>\n",
       "      <td>False</td>\n",
       "      <td>NaN</td>\n",
       "    </tr>\n",
       "    <tr>\n",
       "      <th>1</th>\n",
       "      <td>LEO</td>\n",
       "      <td>CCAFS SLC 40</td>\n",
       "      <td>False</td>\n",
       "      <td>False</td>\n",
       "      <td>False</td>\n",
       "      <td>NaN</td>\n",
       "    </tr>\n",
       "    <tr>\n",
       "      <th>2</th>\n",
       "      <td>ISS</td>\n",
       "      <td>CCAFS SLC 40</td>\n",
       "      <td>False</td>\n",
       "      <td>False</td>\n",
       "      <td>False</td>\n",
       "      <td>NaN</td>\n",
       "    </tr>\n",
       "    <tr>\n",
       "      <th>3</th>\n",
       "      <td>PO</td>\n",
       "      <td>VAFB SLC 4E</td>\n",
       "      <td>False</td>\n",
       "      <td>False</td>\n",
       "      <td>False</td>\n",
       "      <td>NaN</td>\n",
       "    </tr>\n",
       "    <tr>\n",
       "      <th>4</th>\n",
       "      <td>GTO</td>\n",
       "      <td>CCAFS SLC 40</td>\n",
       "      <td>False</td>\n",
       "      <td>False</td>\n",
       "      <td>False</td>\n",
       "      <td>NaN</td>\n",
       "    </tr>\n",
       "  </tbody>\n",
       "</table>\n",
       "</div>"
      ],
      "text/plain": [
       "  Orbit    LaunchSite  GridFins  Reused   Legs LandingPad\n",
       "0   LEO  CCAFS SLC 40     False   False  False        NaN\n",
       "1   LEO  CCAFS SLC 40     False   False  False        NaN\n",
       "2   ISS  CCAFS SLC 40     False   False  False        NaN\n",
       "3    PO   VAFB SLC 4E     False   False  False        NaN\n",
       "4   GTO  CCAFS SLC 40     False   False  False        NaN"
      ]
     },
     "execution_count": 49,
     "metadata": {},
     "output_type": "execute_result"
    }
   ],
   "source": [
    "#Since BoosterVersion is the same along all the rows, we drop it because it is not useful and would not affect our future works\n",
    "cat.drop([\"BoosterVersion\",\"Date\",\"Outcome\",\"Serial\"], axis = 1, inplace = True)\n",
    "cat.head(5)"
   ]
  },
  {
   "cell_type": "markdown",
   "id": "d3774e87",
   "metadata": {},
   "source": [
    "Data splitting into training set and testing set \n",
    "cat_train, cat_test = train_test_split(cat, test_size=0.2, random_state=2)\n",
    "print(\"Original data shape: {}\".format(cat.shape))\n",
    "print(\"Splitted training data shape: {}\".format(cat_train.shape))\n",
    "print(\"Splitted testing data shape: {}\".format(cat_test.shape))"
   ]
  },
  {
   "cell_type": "code",
   "execution_count": 50,
   "id": "e88552f0",
   "metadata": {},
   "outputs": [
    {
     "data": {
      "text/plain": [
       "Orbit          0\n",
       "LaunchSite     0\n",
       "GridFins       0\n",
       "Reused         0\n",
       "Legs           0\n",
       "LandingPad    26\n",
       "dtype: int64"
      ]
     },
     "execution_count": 50,
     "metadata": {},
     "output_type": "execute_result"
    }
   ],
   "source": [
    "#Find missing values\n",
    "cat.isnull().sum()"
   ]
  },
  {
   "cell_type": "code",
   "execution_count": 51,
   "id": "935d7721",
   "metadata": {},
   "outputs": [],
   "source": [
    "#Fill the missing value\n",
    "cat['LandingPad'].fillna(value=\"None\", inplace=True)"
   ]
  },
  {
   "cell_type": "markdown",
   "id": "3c612950",
   "metadata": {},
   "source": [
    "#Outlier not applicable for catgorical data"
   ]
  },
  {
   "cell_type": "code",
   "execution_count": 52,
   "id": "1a01c9bf",
   "metadata": {},
   "outputs": [],
   "source": [
    "landing_site = []\n",
    "for i in df[\"Outcome\"]:\n",
    "    landing_site.append(i.split(\" \")[1])\n",
    "cat[\"LandingSite\"] = np.array(landing_site,dtype='object')"
   ]
  },
  {
   "cell_type": "code",
   "execution_count": 53,
   "id": "31c757c1",
   "metadata": {},
   "outputs": [
    {
     "data": {
      "text/plain": [
       "(88, 23)"
      ]
     },
     "execution_count": 53,
     "metadata": {},
     "output_type": "execute_result"
    }
   ],
   "source": [
    "cat_f = pd.get_dummies(cat, drop_first = True)\n",
    "#cat_f = cat_f.drop([0,])\n",
    "cat_f = cat_f.reset_index(drop=True)\n",
    "cat_f.shape"
   ]
  },
  {
   "cell_type": "code",
   "execution_count": 54,
   "id": "3f20fcab",
   "metadata": {},
   "outputs": [],
   "source": [
    "spacex_f = pd.merge(num_f,cat_f,left_index=True,right_index=True)"
   ]
  },
  {
   "cell_type": "code",
   "execution_count": 55,
   "id": "a41f22fd",
   "metadata": {},
   "outputs": [
    {
     "data": {
      "text/plain": [
       "(88, 30)"
      ]
     },
     "execution_count": 55,
     "metadata": {},
     "output_type": "execute_result"
    }
   ],
   "source": [
    "spacex_f.shape"
   ]
  },
  {
   "cell_type": "code",
   "execution_count": 56,
   "id": "3f5c967a",
   "metadata": {},
   "outputs": [],
   "source": [
    "y = df[\"Class\"]\n",
    "\n",
    "X_train, X_test, y_train, y_test = train_test_split(spacex_f,y,test_size=0.2, random_state=2)"
   ]
  },
  {
   "cell_type": "code",
   "execution_count": 65,
   "id": "8ef2f021",
   "metadata": {},
   "outputs": [
    {
     "name": "stdout",
     "output_type": "stream",
     "text": [
      "(70, 30)\n",
      "(18, 30)\n"
     ]
    }
   ],
   "source": [
    "print(X_train.shape)\n",
    "print(X_test.shape)"
   ]
  },
  {
   "cell_type": "markdown",
   "id": "8e4a946f",
   "metadata": {},
   "source": [
    "## Model Training"
   ]
  },
  {
   "cell_type": "code",
   "execution_count": 118,
   "id": "c82ab79a",
   "metadata": {},
   "outputs": [],
   "source": [
    "from sklearn.metrics import make_scorer, f1_score, precision_score, recall_score, accuracy_score, roc_auc_score, roc_curve, precision_recall_curve, confusion_matrix, classification_report, plot_confusion_matrix\n",
    "from sklearn.model_selection import cross_val_score, cross_validate, cross_val_predict\n",
    "\n",
    "def score(y, y_pred):\n",
    "    return [accuracy_score(y,y_pred), precision_score(y,y_pred), recall_score(y,y_pred), f1_score(y,y_pred)]\n",
    "    "
   ]
  },
  {
   "cell_type": "code",
   "execution_count": 59,
   "id": "c50cc14c",
   "metadata": {},
   "outputs": [],
   "source": [
    "clf_model = ['Logistic Regression','Decision Tree', 'KNN', 'SVC', 'Naive Bayes']\n",
    "\n",
    "from sklearn.linear_model import LogisticRegression\n",
    "model1 = LogisticRegression(random_state=2)\n",
    "\n",
    "from sklearn.tree import DecisionTreeClassifier\n",
    "model2 = DecisionTreeClassifier(random_state=2)\n",
    "\n",
    "from sklearn.neighbors import KNeighborsClassifier\n",
    "model3 = KNeighborsClassifier(n_neighbors=10)\n",
    "\n",
    "from sklearn.svm import SVC\n",
    "model4 = SVC(random_state=2)\n",
    "\n",
    "from sklearn.naive_bayes import GaussianNB\n",
    "model5 = GaussianNB()"
   ]
  },
  {
   "cell_type": "code",
   "execution_count": 113,
   "id": "78c133ca",
   "metadata": {},
   "outputs": [
    {
     "data": {
      "text/html": [
       "<div>\n",
       "<style scoped>\n",
       "    .dataframe tbody tr th:only-of-type {\n",
       "        vertical-align: middle;\n",
       "    }\n",
       "\n",
       "    .dataframe tbody tr th {\n",
       "        vertical-align: top;\n",
       "    }\n",
       "\n",
       "    .dataframe thead th {\n",
       "        text-align: right;\n",
       "    }\n",
       "</style>\n",
       "<table border=\"1\" class=\"dataframe\">\n",
       "  <thead>\n",
       "    <tr style=\"text-align: right;\">\n",
       "      <th></th>\n",
       "      <th>accuracy</th>\n",
       "      <th>precision</th>\n",
       "      <th>recall</th>\n",
       "      <th>f1 score</th>\n",
       "    </tr>\n",
       "  </thead>\n",
       "  <tbody>\n",
       "    <tr>\n",
       "      <th>Logistic Regression</th>\n",
       "      <td>0.9286</td>\n",
       "      <td>0.9167</td>\n",
       "      <td>0.9778</td>\n",
       "      <td>0.9462</td>\n",
       "    </tr>\n",
       "    <tr>\n",
       "      <th>Decision Tree</th>\n",
       "      <td>1.0000</td>\n",
       "      <td>1.0000</td>\n",
       "      <td>1.0000</td>\n",
       "      <td>1.0000</td>\n",
       "    </tr>\n",
       "    <tr>\n",
       "      <th>KNN</th>\n",
       "      <td>0.8429</td>\n",
       "      <td>0.8696</td>\n",
       "      <td>0.8889</td>\n",
       "      <td>0.8791</td>\n",
       "    </tr>\n",
       "    <tr>\n",
       "      <th>SVC</th>\n",
       "      <td>0.9000</td>\n",
       "      <td>0.8654</td>\n",
       "      <td>1.0000</td>\n",
       "      <td>0.9278</td>\n",
       "    </tr>\n",
       "    <tr>\n",
       "      <th>Naive Bayes</th>\n",
       "      <td>0.6143</td>\n",
       "      <td>0.9500</td>\n",
       "      <td>0.4222</td>\n",
       "      <td>0.5846</td>\n",
       "    </tr>\n",
       "  </tbody>\n",
       "</table>\n",
       "</div>"
      ],
      "text/plain": [
       "                     accuracy  precision  recall  f1 score\n",
       "Logistic Regression    0.9286     0.9167  0.9778    0.9462\n",
       "Decision Tree          1.0000     1.0000  1.0000    1.0000\n",
       "KNN                    0.8429     0.8696  0.8889    0.8791\n",
       "SVC                    0.9000     0.8654  1.0000    0.9278\n",
       "Naive Bayes            0.6143     0.9500  0.4222    0.5846"
      ]
     },
     "execution_count": 113,
     "metadata": {},
     "output_type": "execute_result"
    }
   ],
   "source": [
    "result = []\n",
    "\n",
    "for i, model in enumerate([model1,model2,model3,model4,model5]):\n",
    "    model.fit(X_train,y_train)\n",
    "    y_pred = model.predict(X_train)\n",
    "    result.append(score(y_train,y_pred))\n",
    "overall = pd.DataFrame(result, index=clf_model, columns=['accuracy','precision','recall','f1 score'])\n",
    "overall.round(decimals=4)"
   ]
  },
  {
   "cell_type": "code",
   "execution_count": 116,
   "id": "144d6dff",
   "metadata": {},
   "outputs": [
    {
     "data": {
      "text/plain": [
       "<AxesSubplot:>"
      ]
     },
     "execution_count": 116,
     "metadata": {},
     "output_type": "execute_result"
    },
    {
     "data": {
      "image/png": "[encoded data removed]",
      "text/plain": [
       "<Figure size 432x288 with 1 Axes>"
      ]
     },
     "metadata": {
      "needs_background": "light"
     },
     "output_type": "display_data"
    }
   ],
   "source": [
    "overall.plot(kind='bar')"
   ]
  },
  {
   "cell_type": "markdown",
   "id": "ec104832",
   "metadata": {},
   "source": [
    "From the result above, we noticed that the decision tree classifier has perform extermely well on the trining set. This indicates that it has overfitting issue. Hence, it is not suitable to be selected as the final model for the prediction and classification task. To select the best model, we use cross validation with 5 folds to find out the best performed model."
   ]
  },
  {
   "cell_type": "code",
   "execution_count": 119,
   "id": "015c1d42",
   "metadata": {},
   "outputs": [
    {
     "name": "stdout",
     "output_type": "stream",
     "text": [
      "Logistic Regression\n"
     ]
    },
    {
     "data": {
      "image/png": "[encoded data removed]",
      "text/plain": [
       "<Figure size 432x288 with 2 Axes>"
      ]
     },
     "metadata": {
      "needs_background": "light"
     },
     "output_type": "display_data"
    },
    {
     "name": "stdout",
     "output_type": "stream",
     "text": [
      "Decision Tree\n"
     ]
    },
    {
     "data": {
      "image/png": "[encoded data removed]",
      "text/plain": [
       "<Figure size 432x288 with 2 Axes>"
      ]
     },
     "metadata": {
      "needs_background": "light"
     },
     "output_type": "display_data"
    },
    {
     "name": "stdout",
     "output_type": "stream",
     "text": [
      "KNN\n"
     ]
    },
    {
     "data": {
      "image/png": "[encoded data removed]",
      "text/plain": [
       "<Figure size 432x288 with 2 Axes>"
      ]
     },
     "metadata": {
      "needs_background": "light"
     },
     "output_type": "display_data"
    },
    {
     "name": "stdout",
     "output_type": "stream",
     "text": [
      "SVC\n"
     ]
    },
    {
     "data": {
      "image/png": "[encoded data removed]",
      "text/plain": [
       "<Figure size 432x288 with 2 Axes>"
      ]
     },
     "metadata": {
      "needs_background": "light"
     },
     "output_type": "display_data"
    },
    {
     "name": "stdout",
     "output_type": "stream",
     "text": [
      "Naive Bayes\n"
     ]
    },
    {
     "data": {
      "image/png": "[encoded data removed]",
      "text/plain": [
       "<Figure size 432x288 with 2 Axes>"
      ]
     },
     "metadata": {
      "needs_background": "light"
     },
     "output_type": "display_data"
    }
   ],
   "source": [
    "for i, model in enumerate([model1,model2,model3,model4,model5]):\n",
    "    print(clf_model[i])\n",
    "    plot_confusion_matrix(model,X_train,y_train)\n",
    "    plt.show()"
   ]
  },
  {
   "cell_type": "code",
   "execution_count": 109,
   "id": "b77338ac",
   "metadata": {
    "scrolled": false
   },
   "outputs": [
    {
     "name": "stdout",
     "output_type": "stream",
     "text": [
      "Logistic Regression\n",
      "                     0       1       2       3       4    mean  std deviation\n",
      "test_accuracy   0.9286  0.8571  0.6429  0.8571  0.9286  0.8429         0.1050\n",
      "test_precision  0.9000  0.8182  0.7000  1.0000  0.9000  0.8636         0.1001\n",
      "test_recall     1.0000  1.0000  0.7778  0.7778  1.0000  0.9111         0.1089\n",
      "test_f1_score   0.9474  0.9000  0.7368  0.8750  0.9474  0.8813         0.0774\n",
      "\n",
      "\n",
      "\n",
      "Decision Tree\n",
      "                     0       1       2       3       4    mean  std deviation\n",
      "test_accuracy   0.7857  0.8571  0.6429  0.8571  0.9286  0.8143         0.0969\n",
      "test_precision  0.8750  0.8889  0.7000  0.8889  1.0000  0.8706         0.0965\n",
      "test_recall     0.7778  0.8889  0.7778  0.8889  0.8889  0.8444         0.0544\n",
      "test_f1_score   0.8235  0.8889  0.7368  0.8889  0.9412  0.8559         0.0702\n",
      "\n",
      "\n",
      "\n",
      "KNN\n",
      "                     0       1       2       3       4    mean  std deviation\n",
      "test_accuracy   0.9286  0.8571  0.5714  0.7857  0.7857  0.7857         0.1195\n",
      "test_precision  0.9000  0.8182  0.6667  1.0000  0.8000  0.8370         0.1107\n",
      "test_recall     1.0000  1.0000  0.6667  0.6667  0.8889  0.8444         0.1507\n",
      "test_f1_score   0.9474  0.9000  0.6667  0.8000  0.8421  0.8312         0.0963\n",
      "\n",
      "\n",
      "\n",
      "SVC\n",
      "                     0       1       2    3       4    mean  std deviation\n",
      "test_accuracy   0.9286  0.8571  0.6429  1.0  0.7857  0.8429         0.1229\n",
      "test_precision  0.9000  0.8182  0.7000  1.0  0.8000  0.8436         0.1008\n",
      "test_recall     1.0000  1.0000  0.7778  1.0  0.8889  0.9333         0.0889\n",
      "test_f1_score   0.9474  0.9000  0.7368  1.0  0.8421  0.8853         0.0907\n",
      "\n",
      "\n",
      "\n",
      "Naive Bayes\n",
      "                     0       1       2       3       4    mean  std deviation\n",
      "test_accuracy   0.3571  0.5000  0.7143  0.4286  0.4286  0.4857         0.1229\n",
      "test_precision  0.0000  0.6667  0.8571  1.0000  1.0000  0.7048         0.3730\n",
      "test_recall     0.0000  0.4444  0.6667  0.1111  0.1111  0.2667         0.2494\n",
      "test_f1_score   0.0000  0.5333  0.7500  0.2000  0.2000  0.3367         0.2684\n",
      "\n",
      "\n",
      "\n"
     ]
    }
   ],
   "source": [
    "scoring = {'accuracy' : make_scorer(accuracy_score), \n",
    "           'precision' : make_scorer(precision_score),\n",
    "           'recall' : make_scorer(recall_score), \n",
    "           'f1_score' : make_scorer(f1_score)}\n",
    "\n",
    "for i, model in enumerate([model1,model2,model3,model4,model5]):\n",
    "    print(clf_model[i])\n",
    "    scores = cross_validate(model, X_train, y_train, cv=5, scoring=scoring)\n",
    "    cross_val_result = pd.DataFrame(scores).drop(['fit_time','score_time'], axis=1).T\n",
    "    cross_val_result['mean'] = cross_val_result.mean(axis=1)\n",
    "    cross_val_result['std deviation'] = cross_val_result.std(axis=1)\n",
    "    print(cross_val_result.round(4))\n",
    "    print(\"\\n\\n\")"
   ]
  },
  {
   "cell_type": "markdown",
   "id": "f9e418b4",
   "metadata": {},
   "source": [
    "From the result of cross validation, logistic regression and SVC have scored the higher mean accuracy as compared with other models. However, logistic regression with a lower standard deviation indicates its performance are more consistant than the SVC model. Thus, logistic regression will be selected as the best model to perform parameter tuning. "
   ]
  },
  {
   "cell_type": "code",
   "execution_count": 115,
   "id": "92aae914",
   "metadata": {},
   "outputs": [
    {
     "data": {
      "text/plain": [
       "<AxesSubplot:>"
      ]
     },
     "execution_count": 115,
     "metadata": {},
     "output_type": "execute_result"
    },
    {
     "data": {
      "image/png": "[encoded data removed]",
      "text/plain": [
       "<Figure size 432x288 with 1 Axes>"
      ]
     },
     "metadata": {
      "needs_background": "light"
     },
     "output_type": "display_data"
    }
   ],
   "source": []
  },
  {
   "cell_type": "markdown",
   "id": "328bf806",
   "metadata": {},
   "source": [
    "#######################################################################\n",
    "#To explore how many categories exist in those crucuial categorical features\n",
    "orbit = pd.get_dummies(cat_train[\"Orbit\"]).shape\n",
    "launch_site = pd.get_dummies(cat_train[\"LaunchSite\"]).shape\n",
    "landing_pad = pd.get_dummies(cat_train[\"LandingPad\"]).shape\n",
    "serial = pd.get_dummies(cat_train[\"Serial\"]).shape\n",
    "\n",
    "print(\"Orbit cat num: %s\"%(orbit[1]))\n",
    "print(\"LaunchSite cat num: %s\"%(launch_site[1]))\n",
    "print(\"LandingPad cat num: %s\"%(landing_pad[1]))\n",
    "print(\"Serial cat num: %s\"%(serial[1]))\n",
    "#######################################################################"
   ]
  },
  {
   "cell_type": "markdown",
   "id": "9c82dd01",
   "metadata": {},
   "source": [
    "There are 45 categories in Serial feature which it might affects the outcome of the prediction as it might cause overfitting issue. In addition, it is just serial number that would not, or do not really play a significant role in affecting the outcome. Hence, it will be dropped afterwards."
   ]
  },
  {
   "cell_type": "markdown",
   "id": "0ef0d3f9",
   "metadata": {},
   "source": [
    "To handle the Categorical Data, we use get_dummies and features dataframe to apply OneHotEncoder to Orbits, LaunchSite, LandingPad, and Serial columns:"
   ]
  },
  {
   "cell_type": "markdown",
   "id": "b2d2e079",
   "metadata": {
    "scrolled": true
   },
   "source": [
    "col = [\"Orbit\", \"LaunchSite\", \"LandingPad\"]\n",
    "dum = pd.get_dummies(cat_train[col])\n",
    "cat_train_dum = pd.concat([cat_train.drop(columns = col), dum], axis = 1)\n",
    "cat_train_dum.head().sort_index()"
   ]
  },
  {
   "cell_type": "markdown",
   "id": "8b7b397a",
   "metadata": {},
   "source": [
    "We use chi-squired test to find best categorical feature(s) subset:"
   ]
  },
  {
   "cell_type": "markdown",
   "id": "3b5ade4b",
   "metadata": {},
   "source": [
    "col = [\"GridFins\", \"Reused\", \"Legs\", \"Class\"]\n",
    "dum_ct = pd.get_dummies(cat_train[col])\n",
    "\n",
    "chisqt = pd.DataFrame(data=[(0 for i in range(len(dum_ct.columns))) for i in range(len(dum_ct.columns))], \n",
    "                         columns=list(dum_ct.columns))\n",
    "chisqt.set_index(pd.Index(list(dum_ct.columns)), inplace = True)\n",
    "\n",
    "#Find p_value for all columns and put them in the matrix\n",
    "for a in list(dum_ct.columns):\n",
    "    for b in list(dum_ct.columns):\n",
    "        if a != b:\n",
    "            chi2_val, p_val = chi2(np.array(dum_ct[a]).reshape(-1, 1), np.array(dum_ct[b]).reshape(-1, 1))\n",
    "            chisqt.loc[a,b] = p_val\n",
    "print(chisqt)"
   ]
  },
  {
   "cell_type": "markdown",
   "id": "2cab59dc",
   "metadata": {},
   "source": [
    "fig = plt.figure(figsize=(8,8))\n",
    "sns.heatmap(chisqt, annot=True, cmap='Blues')\n",
    "plt.title('Chi-Sq Test Results')\n",
    "plt.show()"
   ]
  },
  {
   "cell_type": "markdown",
   "id": "95a30bf4",
   "metadata": {},
   "source": [
    "From the heatmap, we could say that Legs and GridFins have very high correlation as their value is less than 0.5 and near to 0 and this means they have low correlation between the two features where we can kept both of them.\n",
    "Besides, there is no conclusive evidence that others feature combinations are dependent on each other as their p-values are greater that 0.05. (ignoring the class as it is an output vector)"
   ]
  },
  {
   "cell_type": "markdown",
   "id": "9bf4e562",
   "metadata": {},
   "source": [
    "#Drop the features those exist in the testing dataset but not in the training data set\n",
    "\n",
    "train_col = cat_train_dum.iloc[:, 5:].columns\n",
    "test_col = cat_test_dum.iloc[:, 7:].columns\n",
    "\n",
    "drop_col = []\n",
    "for i in test_col:\n",
    "    if not (i in train_col):\n",
    "        drop_col.append(i)\n",
    "cat_test_dum.drop(columns = drop_col, axis = 1, inplace = True)\n",
    "cat_test_dum.iloc[:, 7:].shape"
   ]
  },
  {
   "cell_type": "markdown",
   "id": "88d972c0",
   "metadata": {},
   "source": [
    "#Add features exist in the training dataset but not in testing dataset, replace missing values with 0\n",
    "\n",
    "train_column = cat_train_fin.iloc[:, 5:].columns\n",
    "test_column = cat_test_dum.iloc[:, 7:].columns\n",
    "\n",
    "add_column = []\n",
    "for i in train_column:\n",
    "    if not (i in test_column):\n",
    "        add_column.append(i)\n",
    "for j in add_column:\n",
    "    cat_test_dum[\"%s\"%j] = 0\n",
    "cat_test_dum.iloc[:, 7:].shape"
   ]
  },
  {
   "cell_type": "markdown",
   "id": "09286b23",
   "metadata": {},
   "source": [
    "cat_train_fin.head()"
   ]
  },
  {
   "cell_type": "markdown",
   "id": "d8c51615",
   "metadata": {},
   "source": [
    "cat_test_dum.head()"
   ]
  },
  {
   "cell_type": "markdown",
   "id": "8776286f",
   "metadata": {},
   "source": [
    "# Model Training"
   ]
  },
  {
   "cell_type": "code",
   "execution_count": null,
   "id": "c1a8ba63",
   "metadata": {},
   "outputs": [],
   "source": [
    "#algorithm 1\n",
    "KNN, SVM, Decision Tree, logreg, naive bayes"
   ]
  },
  {
   "cell_type": "code",
   "execution_count": null,
   "id": "d5ae73d8",
   "metadata": {},
   "outputs": [],
   "source": [
    "#algorithm 2"
   ]
  },
  {
   "cell_type": "code",
   "execution_count": null,
   "id": "22eb7834",
   "metadata": {},
   "outputs": [],
   "source": [
    "#algorithm 3"
   ]
  },
  {
   "cell_type": "code",
   "execution_count": null,
   "id": "33de330a",
   "metadata": {},
   "outputs": [],
   "source": [
    "#algorithm 4"
   ]
  },
  {
   "cell_type": "code",
   "execution_count": null,
   "id": "97f91036",
   "metadata": {},
   "outputs": [],
   "source": [
    "#algorithm 5"
   ]
  },
  {
   "cell_type": "code",
   "execution_count": null,
   "id": "7bd202bf",
   "metadata": {},
   "outputs": [],
   "source": [
    "#testing - finetuning - testing"
   ]
  },
  {
   "cell_type": "code",
   "execution_count": null,
   "id": "edfb0fea",
   "metadata": {},
   "outputs": [],
   "source": [
    "#comparisms etc."
   ]
  },
  {
   "cell_type": "code",
   "execution_count": null,
   "id": "205ddd32",
   "metadata": {},
   "outputs": [],
   "source": [
    "#feature important etc."
   ]
  },
  {
   "cell_type": "code",
   "execution_count": null,
   "id": "992d3ffd",
   "metadata": {},
   "outputs": [],
   "source": [
    "#accuracy, f1 score"
   ]
  }
 ],
 "metadata": {
  "kernelspec": {
   "display_name": "Python 3 (ipykernel)",
   "language": "python",
   "name": "python3"
  },
  "language_info": {
   "codemirror_mode": {
    "name": "ipython",
    "version": 3
   },
   "file_extension": ".py",
   "mimetype": "text/x-python",
   "name": "python",
   "nbconvert_exporter": "python",
   "pygments_lexer": "ipython3",
   "version": "3.9.7"
  }
 },
 "nbformat": 4,
 "nbformat_minor": 5
}
